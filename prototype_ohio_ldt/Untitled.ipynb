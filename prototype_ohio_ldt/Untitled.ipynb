{
 "cells": [
  {
   "cell_type": "code",
   "execution_count": 1,
   "id": "f9e18619-4a74-4f99-8c90-59b090bdab31",
   "metadata": {
    "execution": {
     "iopub.execute_input": "2023-02-23T01:25:01.164328Z",
     "iopub.status.busy": "2023-02-23T01:25:01.163425Z",
     "iopub.status.idle": "2023-02-23T01:25:04.730427Z",
     "shell.execute_reply": "2023-02-23T01:25:04.729571Z",
     "shell.execute_reply.started": "2023-02-23T01:25:01.164247Z"
    },
    "tags": []
   },
   "outputs": [],
   "source": [
    "import activitysim.abm"
   ]
  },
  {
   "cell_type": "code",
   "execution_count": 2,
   "id": "3580d5a5-d75d-4fb8-82e3-1f84a1d5eb15",
   "metadata": {
    "execution": {
     "iopub.execute_input": "2023-02-23T01:25:04.734914Z",
     "iopub.status.busy": "2023-02-23T01:25:04.733752Z",
     "iopub.status.idle": "2023-02-23T01:25:04.746062Z",
     "shell.execute_reply": "2023-02-23T01:25:04.743827Z",
     "shell.execute_reply.started": "2023-02-23T01:25:04.734878Z"
    },
    "tags": []
   },
   "outputs": [],
   "source": [
    "from activitysim.core.workflow import State"
   ]
  },
  {
   "cell_type": "code",
   "execution_count": 3,
   "id": "79275e1a-293b-42f0-b90c-ca29509a5673",
   "metadata": {
    "execution": {
     "iopub.execute_input": "2023-02-23T01:25:04.749512Z",
     "iopub.status.busy": "2023-02-23T01:25:04.747239Z",
     "iopub.status.idle": "2023-02-23T01:25:05.457212Z",
     "shell.execute_reply": "2023-02-23T01:25:05.455711Z",
     "shell.execute_reply.started": "2023-02-23T01:25:04.749396Z"
    },
    "tags": []
   },
   "outputs": [
    {
     "name": "stderr",
     "output_type": "stream",
     "text": [
      "Found the following unexpected settings:\n",
      " - rural_threshold\n",
      " - min_value_of_time\n",
      " - household_median_value_of_time\n",
      " - max_value_of_time\n",
      " - urban_threshold\n",
      " - cbd_threshold\n",
      " - min_available_chunk_ratio\n",
      " - distributed_vot_mu\n",
      " - distributed_vot_sigma\n"
     ]
    }
   ],
   "source": [
    "state = State.make_default()\n",
    "state.import_extensions([\"../longdistance\", \"extensions\"])\n",
    "state.filesystem.persist_sharrow_cache()"
   ]
  },
  {
   "cell_type": "code",
   "execution_count": 4,
   "id": "e90a5adf-73c5-446b-b8c9-a0d3139550ee",
   "metadata": {
    "execution": {
     "iopub.execute_input": "2023-02-23T01:25:05.460610Z",
     "iopub.status.busy": "2023-02-23T01:25:05.459701Z",
     "iopub.status.idle": "2023-02-23T01:25:05.813492Z",
     "shell.execute_reply": "2023-02-23T01:25:05.812642Z",
     "shell.execute_reply.started": "2023-02-23T01:25:05.460560Z"
    },
    "tags": []
   },
   "outputs": [
    {
     "name": "stderr",
     "output_type": "stream",
     "text": [
      "OMX files are all older than cached ZARR, using cache\n"
     ]
    }
   ],
   "source": [
    "state.run.skims_preprocess()"
   ]
  },
  {
   "cell_type": "code",
   "execution_count": 5,
   "id": "3d3dc1c9-1986-40f5-b533-3d945fc04d7c",
   "metadata": {
    "execution": {
     "iopub.execute_input": "2023-02-23T01:25:05.815478Z",
     "iopub.status.busy": "2023-02-23T01:25:05.814760Z",
     "iopub.status.idle": "2023-02-23T01:25:05.839042Z",
     "shell.execute_reply": "2023-02-23T01:25:05.838189Z",
     "shell.execute_reply.started": "2023-02-23T01:25:05.815405Z"
    },
    "tags": []
   },
   "outputs": [
    {
     "name": "stdout",
     "output_type": "stream",
     "text": [
      "[00:07.63] INFO: Read logging configuration from: configs/logging.yaml\n"
     ]
    }
   ],
   "source": [
    "state.logging.config_logger()"
   ]
  },
  {
   "cell_type": "code",
   "execution_count": 6,
   "id": "f4759a33-0622-4d34-a031-ac735c26eff4",
   "metadata": {
    "execution": {
     "iopub.execute_input": "2023-02-23T01:25:05.840649Z",
     "iopub.status.busy": "2023-02-23T01:25:05.840197Z",
     "iopub.status.idle": "2023-02-23T01:26:13.266458Z",
     "shell.execute_reply": "2023-02-23T01:26:13.265363Z",
     "shell.execute_reply.started": "2023-02-23T01:25:05.840615Z"
    },
    "tags": []
   },
   "outputs": [
    {
     "name": "stdout",
     "output_type": "stream",
     "text": [
      "[00:07.66] INFO: #run_model running step initialize_landuse\n",
      "[00:07.72] INFO: recoding column zone_id: zero-based\n",
      "[00:07.74] INFO: loaded land_use (5116, 51)\n",
      "[00:07.75] INFO: initialize_landuse.annotate_tables - annotating land_use SPEC annotate_landuse\n",
      "[00:07.84] INFO: Network_LOS using skim_dict_factory: NumpyArraySkimFactory\n",
      "[00:07.97] INFO: read_shared_list:shared_memory_taz_None\n",
      "[00:07.97] INFO: skim dataset 'taz' not found sharrow_shared_memory_list:shared_memory_taz_None\n",
      "[00:07.97] INFO: loading skim dataset 'taz' from original sources\n",
      "[00:08.22] INFO: scanning for unused skims\n",
      "[00:08.23] INFO: dropping unused skims: {'AIR_BRD', 'ICRDT_RIV', 'ICRDT_XWK', 'ICRWT_HFRQ', 'ICWT_BRD', 'ICRDT_HFRQ', 'ICRDT_FWT', 'ICRWT_BRD', 'ICRWT_XWK', 'ICWT_BIV', 'ICDT_XWK', 'ICDT_FWT', 'ICRWT_FWT', 'ICDT_BIV', 'ICDT_BRD', 'ICRWT_RIV', 'ICRDT_BRD'}\n",
      "[00:08.23] INFO: checking skims alignment with land_use\n",
      "[00:08.23] INFO: otaz alignment ok\n",
      "[00:08.24] INFO: dtaz alignment ok\n",
      "[00:08.24] INFO: writing skims to shared memory\n",
      "[00:08.24] INFO: sharrow.Dataset.to_shared_memory(shared_memory_taz_None)\n",
      "[00:08.24] INFO: create_shared_memory_array(shared_memory_taz_None, )\n",
      "[00:08.24] INFO: create_shared_memory_array:shared_memory_taz_None (5.863 GB)\n",
      "[00:50.81] INFO: create_shared_list:shared_memory_taz_None\n",
      "[00:50.81] INFO: read_shared_list:shared_memory_taz_None\n",
      "[00:50.90] NOTIFY:  time to execute run.initialize_landuse : 43.23 seconds\n",
      "[00:50.95] INFO: #run_model running step initialize_households\n",
      "[00:51.12] INFO: recoding column home_zone_id: land_use.zone_id\n",
      "[00:53.19] INFO: full household list contains 5643151 households\n",
      "[00:53.19] INFO: sampling 1000000 of 5643151 households\n",
      "[00:53.52] INFO: loaded households (1000000, 5)\n",
      "[00:57.38] INFO: loaded persons (2420256, 10)\n",
      "[00:58.24] INFO: initialize_households.annotate_tables - annotating persons SPEC annotate_persons\n",
      "[01:03.71] INFO: initialize_households.annotate_tables - annotating households SPEC annotate_households\n",
      "[01:12.36] INFO: initialize_households.annotate_tables - annotating persons SPEC annotate_persons_after_hh\n",
      "[01:12.86] WARNING: shadow_pricing_models list not found in shadow_pricing settings\n",
      "[01:12.95] NOTIFY:  time to execute run.initialize_households : 22.002 seconds\n"
     ]
    }
   ],
   "source": [
    "state.run.initialize_landuse()\n",
    "state.run.initialize_households()"
   ]
  },
  {
   "cell_type": "code",
   "execution_count": 7,
   "id": "dc02ba81-27a8-4940-bdf3-f83cb26c0213",
   "metadata": {
    "execution": {
     "iopub.execute_input": "2023-02-23T01:26:13.271056Z",
     "iopub.status.busy": "2023-02-23T01:26:13.270806Z",
     "iopub.status.idle": "2023-02-23T01:26:13.278741Z",
     "shell.execute_reply": "2023-02-23T01:26:13.277849Z",
     "shell.execute_reply.started": "2023-02-23T01:26:13.271028Z"
    },
    "tags": []
   },
   "outputs": [
    {
     "data": {
      "text/plain": [
       "1000000"
      ]
     },
     "execution_count": 7,
     "metadata": {},
     "output_type": "execute_result"
    }
   ],
   "source": [
    "state.settings.households_sample_size"
   ]
  },
  {
   "cell_type": "code",
   "execution_count": 8,
   "id": "a6762d18-4a78-4ea8-baac-46b47d2aa2b5",
   "metadata": {
    "execution": {
     "iopub.execute_input": "2023-02-23T01:26:13.280180Z",
     "iopub.status.busy": "2023-02-23T01:26:13.279694Z",
     "iopub.status.idle": "2023-02-23T01:26:27.686119Z",
     "shell.execute_reply": "2023-02-23T01:26:27.685329Z",
     "shell.execute_reply.started": "2023-02-23T01:26:13.280155Z"
    },
    "tags": []
   },
   "outputs": [
    {
     "name": "stdout",
     "output_type": "stream",
     "text": [
      "[01:15.17] INFO: #run_model running step compute_accessibility\n",
      "[01:15.18] INFO: Running compute_accessibility with 5116 orig zones 5116 dest zones\n",
      "[01:15.18] INFO: Running chunkless with 5116 choosers\n",
      "[01:15.18] INFO: Running compute_accessibility with 5116 orig zones 5116 dest zones\n",
      "[01:15.56] INFO: compute_accessibility: merge land_use_columns into od_df\n",
      "[01:24.16] INFO: compute_accessibility: assign.assign_variables\n",
      "[01:24.23] INFO: compute_accessibility.assign_variables _auPkTime = skim_od[('CAR_TIME', 'PK')] + skim_do[('CAR_TIME', 'PK')]\n",
      "[01:25.56] INFO: compute_accessibility.assign_variables _Pkdecay = exp(_auPkTime * dispersion_parameter_automobile)\n",
      "[01:25.83] INFO: compute_accessibility.assign_variables auPkTotal = df.Total_Employment * _Pkdecay\n",
      "[01:25.86] INFO: compute_accessibility.assign_variables auPkRetail = df.Retail_Production * _Pkdecay\n",
      "[01:25.93] INFO: compute_accessibility.assign_variables auPkTotalAdj = np.where(df.MODELAREA == 1, auPkTotal, 0)\n",
      "[01:26.05] INFO: compute_accessibility.assign_variables auPkRetailAdj = np.where(df.MODELAREA == 1, auPkRetail, 0)\n",
      "[01:26.17] INFO: compute_accessibility.assign_variables _auOpTime = skim_od[('CAR_TIME', 'OP')] + skim_do[('CAR_TIME', 'OP')]\n",
      "[01:27.75] INFO: compute_accessibility.assign_variables _Opdecay = exp(_auOpTime * dispersion_parameter_automobile)\n",
      "[01:27.99] INFO: compute_accessibility.assign_variables auOpTotal = df.Total_Employment * _Opdecay\n",
      "[01:28.02] INFO: compute_accessibility.assign_variables auOpRetail = df.Retail_Production*_Opdecay\n",
      "[01:29.02] INFO: compute_accessibility: have results\n",
      "[01:29.43] INFO: compute_accessibility computed accessibilities (5116, 6)\n",
      "[01:29.43] NOTIFY:  time to execute run.compute_accessibility : 14.266 seconds\n"
     ]
    }
   ],
   "source": [
    "state.run.compute_accessibility()"
   ]
  },
  {
   "cell_type": "code",
   "execution_count": 9,
   "id": "312694f9-2254-44f7-b1ee-4e29cc820bad",
   "metadata": {
    "execution": {
     "iopub.execute_input": "2023-02-23T01:26:27.687579Z",
     "iopub.status.busy": "2023-02-23T01:26:27.687262Z",
     "iopub.status.idle": "2023-02-23T01:26:36.172543Z",
     "shell.execute_reply": "2023-02-23T01:26:36.171757Z",
     "shell.execute_reply.started": "2023-02-23T01:26:27.687551Z"
    },
    "tags": []
   },
   "outputs": [
    {
     "name": "stdout",
     "output_type": "stream",
     "text": [
      "[01:29.56] INFO: #run_model running step auto_ownership_simulate\n",
      "[01:30.93] INFO: Running auto_ownership_simulate with 1000000 households\n",
      "[01:30.93] INFO: Running chunkless with 1000000 choosers\n",
      "[01:31.00] INFO: begin apply_flow \n",
      "[01:31.00] INFO: begin setting up flow auto_ownership_simulate.simple_simulate.eval_mnl \n",
      "[01:31.01] INFO: loading skims_mapping\n",
      "[01:31.01] INFO: - orig_col_name: None\n",
      "[01:31.01] INFO: - dest_col_name: None\n",
      "[01:31.01] INFO: - stop_col_name: None\n",
      "[01:31.01] INFO: - primary_origin_col_name: None\n",
      "[01:31.01] INFO: 1000000 chooser rows on auto_ownership_simulate.simple_simulate.eval_mnl\n",
      "[01:31.04] INFO: setting up sharrow flow auto_ownership_simulate.simple_simulate.eval_mnl\n",
      "[01:31.05] INFO: using existing flow code M7KE3UZQ6WZSKPBJZFAHIWIVISI4VQ2C\n",
      "[01:31.06] INFO: completed setting up flow auto_ownership_simulate.simple_simulate.eval_mnl in 0:00:00.056442 \n",
      "[01:31.06] INFO: begin flow_M7KE3UZQ6WZSKPBJZFAHIWIVISI4VQ2C.load auto_ownership_simulate.simple_simulate.eval_mnl\n",
      "[01:31.30] INFO: completed flow_M7KE3UZQ6WZSKPBJZFAHIWIVISI4VQ2C.load in 0:00:00.232812 auto_ownership_simulate.simple_simulate.eval_mnl\n",
      "[01:31.30] INFO: completed apply_flow in 0:00:00.292608 \n",
      "[01:31.30] INFO: elapsed time sharrow flow 0:00:00.360236 auto_ownership_simulate.simple_simulate.eval_mnl\n",
      "[01:31.55] INFO: elapsed time simple flow 0:00:00.256025 auto_ownership_simulate.simple_simulate.eval_mnl.eval_utils\n",
      "\n",
      "Not equal to tolerance rtol=0.01, atol=0\n",
      "utility not aligned\n",
      "Mismatched elements: 1 / 5000000 (2e-05%)\n",
      "Max absolute difference:  1.132488e-06\n",
      "Max relative difference:  0.028923\n",
      " x: array([[ 0.      ,  2.3355  ,  4.56344 ,  3.3826  ,  1.60886 ],\n",
      "       [ 0.      ,  2.3355  ,  0.95765 , -0.7638  , -2.34845 ],\n",
      "       [ 0.      ,  2.3355  ,  4.5236  ,  3.3298  ,  1.5383  ],...\n",
      " y: array([[ 0.      ,  2.3355  ,  4.56344 ,  3.3826  ,  1.60886 ],\n",
      "       [ 0.      ,  2.3355  ,  0.95765 , -0.7638  , -2.34845 ],\n",
      "       [ 0.      ,  2.3355  ,  4.5236  ,  3.3298  ,  1.5383  ],...\n",
      "[01:31.81] INFO: elapsed time sharrow test 0:00:00.251705 auto_ownership_simulate.simple_simulate.eval_mnl.eval_utils\n",
      "[01:31.81] INFO: simulate.eval_utils runtime: 0:00:00.870133 auto_ownership_simulate.simple_simulate.eval_mnl.eval_utils\n",
      "[01:31.81] INFO: simulate.eval_utils timing in 0:00:00.870784: \n",
      "   - sharrow flow             0:00:00.360236 [0:00:00.360236]\n",
      "   - simple flow              0:00:00.256025 [0:00:00.256025]\n",
      "   - assemble utilities       0:00:00.001216 [0:00:00.001216]\n",
      "   - sharrow test             0:00:00.251705 [0:00:00.251705]\n",
      "[01:37.47] INFO: auto_ownership top 10 value counts:\n",
      "2    434221\n",
      "1    301078\n",
      "3    175296\n",
      "4     46824\n",
      "0     42581\n",
      "Name: auto_ownership, dtype: int64\n",
      "[01:37.47] NOTIFY:  time to execute run.auto_ownership_simulate : 7.912 seconds\n"
     ]
    }
   ],
   "source": [
    "state.run.auto_ownership_simulate()"
   ]
  },
  {
   "cell_type": "code",
   "execution_count": 10,
   "id": "38e83594-08c2-491c-8b15-b98ca2594ca2",
   "metadata": {
    "execution": {
     "iopub.execute_input": "2023-02-23T01:26:36.173918Z",
     "iopub.status.busy": "2023-02-23T01:26:36.173480Z",
     "iopub.status.idle": "2023-02-23T01:26:40.767925Z",
     "shell.execute_reply": "2023-02-23T01:26:40.766306Z",
     "shell.execute_reply.started": "2023-02-23T01:26:36.173891Z"
    },
    "tags": []
   },
   "outputs": [
    {
     "name": "stdout",
     "output_type": "stream",
     "text": [
      "[01:38.05] INFO: #run_model running step ldt_tour_gen_household\n",
      "[01:39.31] INFO: Running chunkless with 1000000 choosers\n",
      "[01:39.38] INFO: begin apply_flow \n",
      "[01:39.38] INFO: begin setting up flow ldt_tour_gen_household.simple_simulate.eval_mnl \n",
      "[01:39.38] INFO: loading skims_mapping\n",
      "[01:39.38] INFO: - orig_col_name: None\n",
      "[01:39.38] INFO: - dest_col_name: None\n",
      "[01:39.38] INFO: - stop_col_name: None\n",
      "[01:39.38] INFO: - primary_origin_col_name: None\n",
      "[01:39.38] INFO: 1000000 chooser rows on ldt_tour_gen_household.simple_simulate.eval_mnl\n",
      "[01:39.43] INFO: setting up sharrow flow ldt_tour_gen_household.simple_simulate.eval_mnl\n",
      "[01:39.44] INFO: writing fresh flow code BHEGBGY43BAAY3GBKUU5WZXXWKSUJVQO\n",
      "[01:40.50] INFO: completed setting up flow ldt_tour_gen_household.simple_simulate.eval_mnl in 0:00:01.122813 \n",
      "[01:40.50] INFO: begin flow_BHEGBGY43BAAY3GBKUU5WZXXWKSUJVQO.load ldt_tour_gen_household.simple_simulate.eval_mnl\n",
      "[01:41.73] ERROR: nb.TypingError in 16 functions\n",
      "[01:41.73] ERROR: util_constant = 1 = 1\n",
      "[01:41.73] ERROR: util_hhworkers_1 = num_workers== 1 = __df__num_workers[_arg00,] == 1\n",
      "[01:41.73] ERROR: util_hhworkers_2 = num_workers== 2 = __df__num_workers[_arg00,] == 2\n",
      "[01:41.74] ERROR: util_hhworkers_3_up = num_workers > 2 = __df__num_workers[_arg00,] > 2\n",
      "[01:41.74] ERROR: util_hhautos_1 = auto_ownership == 1 = __df__auto_ownership[_arg00,] == 1\n",
      "[01:41.74] ERROR: util_hhautos_2 = auto_ownership == 2 = __df__auto_ownership[_arg00,] == 2\n",
      "[01:41.74] ERROR: util_hhautos_3_up = auto_ownership > 2 = __df__auto_ownership[_arg00,] > 2\n",
      "[01:41.74] ERROR: util_hhsize_2 = hhsize == 2 = __df__hhsize[_arg00,] == 2\n",
      "[01:41.74] ERROR: util_hhsize_3 = hhsize == 3 = __df__hhsize[_arg00,] == 3\n",
      "[01:41.74] ERROR: util_hhsize_4_up = hhsize > 3 = __df__hhsize[_arg00,] > 3\n",
      "[01:41.74] ERROR: util_hhincome_20k_40k = (INCOME>=20000) & (INCOME<40000) = (__df__INCOME[_arg00,] >= 20000) & (__df__INCOME[_arg00,] < 40000)\n",
      "[01:41.74] ERROR: util_hhincome_40k_60k = (INCOME>=40000) & (INCOME<60000) = (__df__INCOME[_arg00,] >= 40000) & (__df__INCOME[_arg00,] < 60000)\n",
      "[01:41.74] ERROR: util_hhincome_60k_up = (INCOME>=60000) = __df__INCOME[_arg00,] >= 60000\n",
      "[01:41.74] ERROR: util_single_family_dwelling = df.BLD.isin(BLD_ONE_FAMILY_HOUSE) = __df__BLD[_arg00,] == 2 or __df__BLD[_arg00,] == 3\n",
      "[01:41.74] ERROR: util_hhstudents = num_students > 2 = __df__num_students[_arg00,] > 2\n",
      "[01:41.74] ERROR: util_accessibility = auNormPkTotal = auNormPkTotal\n",
      "[01:41.75] ERROR: error in apply_flow: name 'auNormPkTotal' is not defined\n",
      "[01:41.75] ERROR: error in flow_BHEGBGY43BAAY3GBKUU5WZXXWKSUJVQO.load after 0:00:01.243351 ldt_tour_gen_household.simple_simulate.eval_mnl\n",
      "[01:41.75] ERROR: error in apply_flow after 0:00:02.369367 \n",
      "[01:41.75] ERROR: ===== ERROR IN ldt_tour_gen_household =====\n",
      "[01:41.75] ERROR: name 'auNormPkTotal' is not defined\n",
      "Traceback (most recent call last):\n",
      "  File \"/Users/jeffnewman/LocalGit/sharrow/sharrow/flows.py\", line 2015, in _iload_raw\n",
      "    result = runner_(np.asarray(argshape), *arguments, **kwargs)\n",
      "  File \"/Users/jeffnewman/mambaforge/envs/winter23/lib/python3.10/site-packages/numba/core/dispatcher.py\", line 468, in _compile_for_args\n",
      "    error_rewrite(e, 'typing')\n",
      "  File \"/Users/jeffnewman/mambaforge/envs/winter23/lib/python3.10/site-packages/numba/core/dispatcher.py\", line 409, in error_rewrite\n",
      "    raise e.with_traceback(None)\n",
      "numba.core.errors.TypingError: Failed in nopython mode pipeline (step: nopython frontend)\n",
      "\u001B[1m\u001B[1m\u001B[1m\u001B[1m\u001B[1m\u001B[1mFailed in nopython mode pipeline (step: nopython frontend)\n",
      "\u001B[1mNameError: name 'auNormPkTotal' is not defined\u001B[0m\n",
      "\u001B[0m\u001B[1mDuring: resolving callee type: type(CPUDispatcher(<function util_accessibility at 0x303f32560>))\u001B[0m\n",
      "\u001B[0m\u001B[1mDuring: typing of call at /Users/jeffnewman/Library/Caches/ActivitySim/numba-0.56.4/flow_BHEGBGY43BAAY3GBKUU5WZXXWKSUJVQO/__init__.py (892)\n",
      "\u001B[0m\n",
      "\u001B[0m\u001B[1mDuring: resolving callee type: type(CPUDispatcher(<function util_accessibility at 0x303f32560>))\u001B[0m\n",
      "\u001B[0m\u001B[1mDuring: typing of call at /Users/jeffnewman/Library/Caches/ActivitySim/numba-0.56.4/flow_BHEGBGY43BAAY3GBKUU5WZXXWKSUJVQO/__init__.py (942)\n",
      "\u001B[0m\n",
      "\u001B[0m\u001B[1mDuring: resolving callee type: type(CPUDispatcher(<function util_accessibility at 0x303f32560>))\u001B[0m\n",
      "\u001B[0m\u001B[1mDuring: typing of call at /Users/jeffnewman/Library/Caches/ActivitySim/numba-0.56.4/flow_BHEGBGY43BAAY3GBKUU5WZXXWKSUJVQO/__init__.py (892)\n",
      "\u001B[0m\n",
      "\u001B[1m\n",
      "File \"../../../Library/Caches/ActivitySim/numba-0.56.4/flow_BHEGBGY43BAAY3GBKUU5WZXXWKSUJVQO/__init__.py\", line 892:\u001B[0m\n",
      "\u001B[1mdef idotter(\n",
      "    <source elided>\n",
      "            intermediate[15] = (\n",
      "\u001B[1m                util_accessibility(\n",
      "\u001B[0m                \u001B[1m^\u001B[0m\u001B[0m\n",
      "\n",
      "\n",
      "The above exception was the direct cause of the following exception:\n",
      "\n",
      "Traceback (most recent call last):\n",
      "  File \"/Users/jeffnewman/LocalGit/activitysim/activitysim/core/workflow/steps.py\", line 40, in wrapper\n",
      "    return func(*args, **kwargs)\n",
      "  File \"/Users/jeffnewman/LocalGit/activitysim-longdistance/longdistance/ldt_tour_gen_household.py\", line 86, in ldt_tour_gen_household\n",
      "    choices = simulate.simple_simulate(\n",
      "  File \"/Users/jeffnewman/LocalGit/activitysim/activitysim/core/simulate.py\", line 1536, in simple_simulate\n",
      "    choices = _simple_simulate(\n",
      "  File \"/Users/jeffnewman/LocalGit/activitysim/activitysim/core/workflow/steps.py\", line 438, in wrapper\n",
      "    return function(state, *args, **kwargs)\n",
      "  File \"/Users/jeffnewman/LocalGit/activitysim/activitysim/core/simulate.py\", line 1450, in _simple_simulate\n",
      "    choices = eval_mnl(\n",
      "  File \"/Users/jeffnewman/LocalGit/activitysim/activitysim/core/simulate.py\", line 1145, in eval_mnl\n",
      "    utilities = eval_utilities(\n",
      "  File \"/Users/jeffnewman/LocalGit/activitysim/activitysim/core/simulate.py\", line 539, in eval_utilities\n",
      "    sh_util, sh_flow = apply_flow(\n",
      "  File \"/Users/jeffnewman/LocalGit/activitysim/activitysim/core/flow.py\", line 805, in apply_flow\n",
      "    flow_result = flow.dot(\n",
      "  File \"/Users/jeffnewman/LocalGit/sharrow/sharrow/flows.py\", line 2540, in dot\n",
      "    return self._load(\n",
      "  File \"/Users/jeffnewman/LocalGit/sharrow/sharrow/flows.py\", line 2316, in _load\n",
      "    result = self._iload_raw(\n",
      "  File \"/Users/jeffnewman/LocalGit/sharrow/sharrow/flows.py\", line 2031, in _iload_raw\n",
      "    raise NameError(problem.group(1)) from err\n",
      "NameError: name 'auNormPkTotal' is not defined\n",
      "[01:41.76] ERROR: ===== / =====\n"
     ]
    },
    {
     "ename": "NameError",
     "evalue": "name 'auNormPkTotal' is not defined",
     "output_type": "error",
     "traceback": [
      "\u001B[0;31m---------------------------------------------------------------------------\u001B[0m",
      "\u001B[0;31mTypingError\u001B[0m                               Traceback (most recent call last)",
      "File \u001B[0;32m~/LocalGit/sharrow/sharrow/flows.py:2015\u001B[0m, in \u001B[0;36mFlow._iload_raw\u001B[0;34m(self, rg, runner, dtype, dot, mnl, pick_counted, logsums, nesting, mask, compile_watch)\u001B[0m\n\u001B[1;32m   2012\u001B[0m     logger\u001B[38;5;241m.\u001B[39mdebug(\n\u001B[1;32m   2013\u001B[0m         \u001B[38;5;124m\"\u001B[39m\u001B[38;5;124m========= ~~~~~~~~~~~~~~~~~~~~~~~~~~~~~~~~ ==========\u001B[39m\u001B[38;5;124m\"\u001B[39m\n\u001B[1;32m   2014\u001B[0m     )\n\u001B[0;32m-> 2015\u001B[0m result \u001B[38;5;241m=\u001B[39m \u001B[43mrunner_\u001B[49m\u001B[43m(\u001B[49m\u001B[43mnp\u001B[49m\u001B[38;5;241;43m.\u001B[39;49m\u001B[43masarray\u001B[49m\u001B[43m(\u001B[49m\u001B[43margshape\u001B[49m\u001B[43m)\u001B[49m\u001B[43m,\u001B[49m\u001B[43m \u001B[49m\u001B[38;5;241;43m*\u001B[39;49m\u001B[43marguments\u001B[49m\u001B[43m,\u001B[49m\u001B[43m \u001B[49m\u001B[38;5;241;43m*\u001B[39;49m\u001B[38;5;241;43m*\u001B[39;49m\u001B[43mkwargs\u001B[49m\u001B[43m)\u001B[49m\n\u001B[1;32m   2016\u001B[0m \u001B[38;5;28;01mif\u001B[39;00m compile_watch:\n",
      "File \u001B[0;32m~/mambaforge/envs/winter23/lib/python3.10/site-packages/numba/core/dispatcher.py:468\u001B[0m, in \u001B[0;36m_DispatcherBase._compile_for_args\u001B[0;34m(self, *args, **kws)\u001B[0m\n\u001B[1;32m    466\u001B[0m         e\u001B[38;5;241m.\u001B[39mpatch_message(msg)\n\u001B[0;32m--> 468\u001B[0m     \u001B[43merror_rewrite\u001B[49m\u001B[43m(\u001B[49m\u001B[43me\u001B[49m\u001B[43m,\u001B[49m\u001B[43m \u001B[49m\u001B[38;5;124;43m'\u001B[39;49m\u001B[38;5;124;43mtyping\u001B[39;49m\u001B[38;5;124;43m'\u001B[39;49m\u001B[43m)\u001B[49m\n\u001B[1;32m    469\u001B[0m \u001B[38;5;28;01mexcept\u001B[39;00m errors\u001B[38;5;241m.\u001B[39mUnsupportedError \u001B[38;5;28;01mas\u001B[39;00m e:\n\u001B[1;32m    470\u001B[0m     \u001B[38;5;66;03m# Something unsupported is present in the user code, add help info\u001B[39;00m\n",
      "File \u001B[0;32m~/mambaforge/envs/winter23/lib/python3.10/site-packages/numba/core/dispatcher.py:409\u001B[0m, in \u001B[0;36m_DispatcherBase._compile_for_args.<locals>.error_rewrite\u001B[0;34m(e, issue_type)\u001B[0m\n\u001B[1;32m    408\u001B[0m \u001B[38;5;28;01melse\u001B[39;00m:\n\u001B[0;32m--> 409\u001B[0m     \u001B[38;5;28;01mraise\u001B[39;00m e\u001B[38;5;241m.\u001B[39mwith_traceback(\u001B[38;5;28;01mNone\u001B[39;00m)\n",
      "\u001B[0;31mTypingError\u001B[0m: Failed in nopython mode pipeline (step: nopython frontend)\n\u001B[1m\u001B[1m\u001B[1m\u001B[1m\u001B[1m\u001B[1mFailed in nopython mode pipeline (step: nopython frontend)\n\u001B[1mNameError: name 'auNormPkTotal' is not defined\u001B[0m\n\u001B[0m\u001B[1mDuring: resolving callee type: type(CPUDispatcher(<function util_accessibility at 0x303f32560>))\u001B[0m\n\u001B[0m\u001B[1mDuring: typing of call at /Users/jeffnewman/Library/Caches/ActivitySim/numba-0.56.4/flow_BHEGBGY43BAAY3GBKUU5WZXXWKSUJVQO/__init__.py (892)\n\u001B[0m\n\u001B[0m\u001B[1mDuring: resolving callee type: type(CPUDispatcher(<function util_accessibility at 0x303f32560>))\u001B[0m\n\u001B[0m\u001B[1mDuring: typing of call at /Users/jeffnewman/Library/Caches/ActivitySim/numba-0.56.4/flow_BHEGBGY43BAAY3GBKUU5WZXXWKSUJVQO/__init__.py (942)\n\u001B[0m\n\u001B[0m\u001B[1mDuring: resolving callee type: type(CPUDispatcher(<function util_accessibility at 0x303f32560>))\u001B[0m\n\u001B[0m\u001B[1mDuring: typing of call at /Users/jeffnewman/Library/Caches/ActivitySim/numba-0.56.4/flow_BHEGBGY43BAAY3GBKUU5WZXXWKSUJVQO/__init__.py (892)\n\u001B[0m\n\u001B[1m\nFile \"../../../Library/Caches/ActivitySim/numba-0.56.4/flow_BHEGBGY43BAAY3GBKUU5WZXXWKSUJVQO/__init__.py\", line 892:\u001B[0m\n\u001B[1mdef idotter(\n    <source elided>\n            intermediate[15] = (\n\u001B[1m                util_accessibility(\n\u001B[0m                \u001B[1m^\u001B[0m\u001B[0m\n",
      "\nThe above exception was the direct cause of the following exception:\n",
      "\u001B[0;31mNameError\u001B[0m                                 Traceback (most recent call last)",
      "Cell \u001B[0;32mIn[10], line 1\u001B[0m\n\u001B[0;32m----> 1\u001B[0m \u001B[43mstate\u001B[49m\u001B[38;5;241;43m.\u001B[39;49m\u001B[43mrun\u001B[49m\u001B[38;5;241;43m.\u001B[39;49m\u001B[43mldt_tour_gen_household\u001B[49m\u001B[43m(\u001B[49m\u001B[43m)\u001B[49m\n",
      "File \u001B[0;32m~/LocalGit/activitysim/activitysim/core/workflow/runner.py:183\u001B[0m, in \u001B[0;36mRunner.__getattr__.<locals>.<lambda>\u001B[0;34m(**kwargs)\u001B[0m\n\u001B[1;32m    178\u001B[0m \u001B[38;5;28;01mdef\u001B[39;00m \u001B[38;5;21m__getattr__\u001B[39m(\u001B[38;5;28mself\u001B[39m, item):\n\u001B[1;32m    179\u001B[0m     \u001B[38;5;28;01mif\u001B[39;00m item \u001B[38;5;129;01min\u001B[39;00m \u001B[38;5;28mself\u001B[39m\u001B[38;5;241m.\u001B[39m_obj\u001B[38;5;241m.\u001B[39m_RUNNABLE_STEPS:\n\u001B[1;32m    180\u001B[0m         \u001B[38;5;66;03m# f = lambda **kwargs: self.obj._RUNNABLE_STEPS[item](\u001B[39;00m\n\u001B[1;32m    181\u001B[0m         \u001B[38;5;66;03m#     self.obj.context, **kwargs\u001B[39;00m\n\u001B[1;32m    182\u001B[0m         \u001B[38;5;66;03m# )\u001B[39;00m\n\u001B[0;32m--> 183\u001B[0m         f \u001B[38;5;241m=\u001B[39m \u001B[38;5;28;01mlambda\u001B[39;00m \u001B[38;5;241m*\u001B[39m\u001B[38;5;241m*\u001B[39mkwargs: \u001B[38;5;28;43mself\u001B[39;49m\u001B[38;5;241;43m.\u001B[39;49m\u001B[43mby_name\u001B[49m\u001B[43m(\u001B[49m\u001B[43mitem\u001B[49m\u001B[43m)\u001B[49m\n\u001B[1;32m    184\u001B[0m         f\u001B[38;5;241m.\u001B[39m\u001B[38;5;18m__doc__\u001B[39m \u001B[38;5;241m=\u001B[39m \u001B[38;5;28mself\u001B[39m\u001B[38;5;241m.\u001B[39m_obj\u001B[38;5;241m.\u001B[39m_RUNNABLE_STEPS[item]\u001B[38;5;241m.\u001B[39m\u001B[38;5;18m__doc__\u001B[39m\n\u001B[1;32m    185\u001B[0m         \u001B[38;5;28;01mreturn\u001B[39;00m f\n",
      "File \u001B[0;32m~/LocalGit/activitysim/activitysim/core/workflow/runner.py:301\u001B[0m, in \u001B[0;36mRunner.by_name\u001B[0;34m(self, model_name)\u001B[0m\n\u001B[1;32m    299\u001B[0m         f\u001B[38;5;241m.\u001B[39mwrite(profiler\u001B[38;5;241m.\u001B[39moutput_html())\n\u001B[1;32m    300\u001B[0m \u001B[38;5;28;01melse\u001B[39;00m:\n\u001B[0;32m--> 301\u001B[0m     \u001B[38;5;28mself\u001B[39m\u001B[38;5;241m.\u001B[39m_obj\u001B[38;5;241m.\u001B[39mcontext \u001B[38;5;241m=\u001B[39m \u001B[43mrun_named_step\u001B[49m\u001B[43m(\u001B[49m\u001B[38;5;28;43mself\u001B[39;49m\u001B[38;5;241;43m.\u001B[39;49m\u001B[43mstep_name\u001B[49m\u001B[43m,\u001B[49m\u001B[43m \u001B[49m\u001B[38;5;28;43mself\u001B[39;49m\u001B[38;5;241;43m.\u001B[39;49m\u001B[43m_obj\u001B[49m\u001B[38;5;241;43m.\u001B[39;49m\u001B[43mcontext\u001B[49m\u001B[43m)\u001B[49m\n\u001B[1;32m    303\u001B[0m \u001B[38;5;28;01mfrom\u001B[39;00m \u001B[38;5;21;01mactivitysim\u001B[39;00m\u001B[38;5;21;01m.\u001B[39;00m\u001B[38;5;21;01mcore\u001B[39;00m\u001B[38;5;21;01m.\u001B[39;00m\u001B[38;5;21;01mtracing\u001B[39;00m \u001B[38;5;28;01mimport\u001B[39;00m print_elapsed_time\n\u001B[1;32m    305\u001B[0m \u001B[38;5;28mself\u001B[39m\u001B[38;5;241m.\u001B[39mt0 \u001B[38;5;241m=\u001B[39m \u001B[38;5;28mself\u001B[39m\u001B[38;5;241m.\u001B[39mlog_elapsed_time(\u001B[38;5;124mf\u001B[39m\u001B[38;5;124m\"\u001B[39m\u001B[38;5;124mrun.\u001B[39m\u001B[38;5;132;01m{\u001B[39;00mmodel_name\u001B[38;5;132;01m}\u001B[39;00m\u001B[38;5;124m\"\u001B[39m, \u001B[38;5;28mself\u001B[39m\u001B[38;5;241m.\u001B[39mt0)\n",
      "File \u001B[0;32m~/LocalGit/activitysim/activitysim/core/workflow/steps.py:77\u001B[0m, in \u001B[0;36mrun_named_step\u001B[0;34m(name, context)\u001B[0m\n\u001B[1;32m     75\u001B[0m         logger\u001B[38;5;241m.\u001B[39merror(\u001B[38;5;124mf\u001B[39m\u001B[38;5;124m\"\u001B[39m\u001B[38;5;124m - \u001B[39m\u001B[38;5;132;01m{\u001B[39;00mn\u001B[38;5;132;01m}\u001B[39;00m\u001B[38;5;124m\"\u001B[39m)\n\u001B[1;32m     76\u001B[0m     \u001B[38;5;28;01mraise\u001B[39;00m\n\u001B[0;32m---> 77\u001B[0m \u001B[43mstep_func\u001B[49m\u001B[43m(\u001B[49m\u001B[43mcontext\u001B[49m\u001B[43m)\u001B[49m\n\u001B[1;32m     78\u001B[0m \u001B[38;5;28;01mreturn\u001B[39;00m context\n",
      "File \u001B[0;32m~/LocalGit/activitysim/activitysim/core/workflow/steps.py:336\u001B[0m, in \u001B[0;36mworkflow_step.__call__.<locals>.run_step\u001B[0;34m(context, **override_kwargs)\u001B[0m\n\u001B[1;32m    334\u001B[0m         \u001B[38;5;28;01mif\u001B[39;00m arg \u001B[38;5;129;01min\u001B[39;00m kwargs:\n\u001B[1;32m    335\u001B[0m             kwargs\u001B[38;5;241m.\u001B[39mpop(arg)\n\u001B[0;32m--> 336\u001B[0m outcome \u001B[38;5;241m=\u001B[39m \u001B[43merror_logging\u001B[49m\u001B[43m(\u001B[49m\u001B[43mwrapped_func\u001B[49m\u001B[43m)\u001B[49m\u001B[43m(\u001B[49m\u001B[38;5;241;43m*\u001B[39;49m\u001B[43margs\u001B[49m\u001B[43m,\u001B[49m\u001B[43m \u001B[49m\u001B[38;5;241;43m*\u001B[39;49m\u001B[38;5;241;43m*\u001B[39;49m\u001B[43mkwargs\u001B[49m\u001B[43m)\u001B[49m\n\u001B[1;32m    337\u001B[0m \u001B[38;5;28;01mif\u001B[39;00m \u001B[38;5;28mself\u001B[39m\u001B[38;5;241m.\u001B[39m_kind \u001B[38;5;241m==\u001B[39m \u001B[38;5;124m\"\u001B[39m\u001B[38;5;124mtable\u001B[39m\u001B[38;5;124m\"\u001B[39m:\n\u001B[1;32m    338\u001B[0m     context[\u001B[38;5;28mself\u001B[39m\u001B[38;5;241m.\u001B[39m_step_name] \u001B[38;5;241m=\u001B[39m outcome\n",
      "File \u001B[0;32m~/LocalGit/activitysim/activitysim/core/workflow/steps.py:40\u001B[0m, in \u001B[0;36merror_logging.<locals>.wrapper\u001B[0;34m(*args, **kwargs)\u001B[0m\n\u001B[1;32m     38\u001B[0m \u001B[38;5;28;01mdef\u001B[39;00m \u001B[38;5;21mwrapper\u001B[39m(\u001B[38;5;241m*\u001B[39margs, \u001B[38;5;241m*\u001B[39m\u001B[38;5;241m*\u001B[39mkwargs):\n\u001B[1;32m     39\u001B[0m     \u001B[38;5;28;01mtry\u001B[39;00m:\n\u001B[0;32m---> 40\u001B[0m         \u001B[38;5;28;01mreturn\u001B[39;00m \u001B[43mfunc\u001B[49m\u001B[43m(\u001B[49m\u001B[38;5;241;43m*\u001B[39;49m\u001B[43margs\u001B[49m\u001B[43m,\u001B[49m\u001B[43m \u001B[49m\u001B[38;5;241;43m*\u001B[39;49m\u001B[38;5;241;43m*\u001B[39;49m\u001B[43mkwargs\u001B[49m\u001B[43m)\u001B[49m\n\u001B[1;32m     41\u001B[0m     \u001B[38;5;28;01mexcept\u001B[39;00m \u001B[38;5;167;01mException\u001B[39;00m \u001B[38;5;28;01mas\u001B[39;00m err:\n\u001B[1;32m     42\u001B[0m         logging\u001B[38;5;241m.\u001B[39merror(\u001B[38;5;124mf\u001B[39m\u001B[38;5;124m\"\u001B[39m\u001B[38;5;124m===== ERROR IN \u001B[39m\u001B[38;5;132;01m{\u001B[39;00mfunc\u001B[38;5;241m.\u001B[39m\u001B[38;5;18m__name__\u001B[39m\u001B[38;5;132;01m}\u001B[39;00m\u001B[38;5;124m =====\u001B[39m\u001B[38;5;124m\"\u001B[39m)\n",
      "File \u001B[0;32m~/LocalGit/activitysim-longdistance/longdistance/ldt_tour_gen_household.py:86\u001B[0m, in \u001B[0;36mldt_tour_gen_household\u001B[0;34m(state, households, households_merged)\u001B[0m\n\u001B[1;32m     83\u001B[0m     estimator\u001B[38;5;241m.\u001B[39mwrite_choosers(choosers)\n\u001B[1;32m     85\u001B[0m \u001B[38;5;66;03m# running the tour gen multinomial logit model\u001B[39;00m\n\u001B[0;32m---> 86\u001B[0m choices \u001B[38;5;241m=\u001B[39m \u001B[43msimulate\u001B[49m\u001B[38;5;241;43m.\u001B[39;49m\u001B[43msimple_simulate\u001B[49m\u001B[43m(\u001B[49m\n\u001B[1;32m     87\u001B[0m \u001B[43m    \u001B[49m\u001B[43mstate\u001B[49m\u001B[43m,\u001B[49m\n\u001B[1;32m     88\u001B[0m \u001B[43m    \u001B[49m\u001B[43mchoosers\u001B[49m\u001B[38;5;241;43m=\u001B[39;49m\u001B[43mchoosers\u001B[49m\u001B[43m,\u001B[49m\n\u001B[1;32m     89\u001B[0m \u001B[43m    \u001B[49m\u001B[43mspec\u001B[49m\u001B[38;5;241;43m=\u001B[39;49m\u001B[43mmodel_spec\u001B[49m\u001B[43m,\u001B[49m\n\u001B[1;32m     90\u001B[0m \u001B[43m    \u001B[49m\u001B[43mnest_spec\u001B[49m\u001B[38;5;241;43m=\u001B[39;49m\u001B[43mnest_spec\u001B[49m\u001B[43m,\u001B[49m\n\u001B[1;32m     91\u001B[0m \u001B[43m    \u001B[49m\u001B[43mlocals_d\u001B[49m\u001B[38;5;241;43m=\u001B[39;49m\u001B[43mconstants\u001B[49m\u001B[43m,\u001B[49m\n\u001B[1;32m     92\u001B[0m \u001B[43m    \u001B[49m\u001B[43mtrace_label\u001B[49m\u001B[38;5;241;43m=\u001B[39;49m\u001B[43mtrace_label\u001B[49m\u001B[43m,\u001B[49m\n\u001B[1;32m     93\u001B[0m \u001B[43m    \u001B[49m\u001B[43mtrace_choice_name\u001B[49m\u001B[38;5;241;43m=\u001B[39;49m\u001B[38;5;124;43m\"\u001B[39;49m\u001B[38;5;124;43mldt_tour_gen_household\u001B[39;49m\u001B[38;5;124;43m\"\u001B[39;49m\u001B[43m,\u001B[49m\n\u001B[1;32m     94\u001B[0m \u001B[43m    \u001B[49m\u001B[43mestimator\u001B[49m\u001B[38;5;241;43m=\u001B[39;49m\u001B[43mestimator\u001B[49m\u001B[43m,\u001B[49m\n\u001B[1;32m     95\u001B[0m \u001B[43m\u001B[49m\u001B[43m)\u001B[49m\n\u001B[1;32m     97\u001B[0m \u001B[38;5;28;01mif\u001B[39;00m estimator:\n\u001B[1;32m     98\u001B[0m     estimator\u001B[38;5;241m.\u001B[39mwrite_choices(choices)\n",
      "File \u001B[0;32m~/LocalGit/activitysim/activitysim/core/simulate.py:1536\u001B[0m, in \u001B[0;36msimple_simulate\u001B[0;34m(state, choosers, spec, nest_spec, skims, locals_d, custom_chooser, log_alt_losers, want_logsums, estimator, trace_label, trace_choice_name, trace_column_names)\u001B[0m\n\u001B[1;32m   1529\u001B[0m \u001B[38;5;66;03m# segment by person type and pick the right spec for each person type\u001B[39;00m\n\u001B[1;32m   1530\u001B[0m \u001B[38;5;28;01mfor\u001B[39;00m (\n\u001B[1;32m   1531\u001B[0m     i,\n\u001B[1;32m   1532\u001B[0m     chooser_chunk,\n\u001B[1;32m   1533\u001B[0m     chunk_trace_label,\n\u001B[1;32m   1534\u001B[0m     chunk_sizer,\n\u001B[1;32m   1535\u001B[0m ) \u001B[38;5;129;01min\u001B[39;00m chunk\u001B[38;5;241m.\u001B[39madaptive_chunked_choosers(state, choosers, trace_label):\n\u001B[0;32m-> 1536\u001B[0m     choices \u001B[38;5;241m=\u001B[39m \u001B[43m_simple_simulate\u001B[49m\u001B[43m(\u001B[49m\n\u001B[1;32m   1537\u001B[0m \u001B[43m        \u001B[49m\u001B[43mstate\u001B[49m\u001B[43m,\u001B[49m\n\u001B[1;32m   1538\u001B[0m \u001B[43m        \u001B[49m\u001B[43mchooser_chunk\u001B[49m\u001B[43m,\u001B[49m\n\u001B[1;32m   1539\u001B[0m \u001B[43m        \u001B[49m\u001B[43mspec\u001B[49m\u001B[43m,\u001B[49m\n\u001B[1;32m   1540\u001B[0m \u001B[43m        \u001B[49m\u001B[43mnest_spec\u001B[49m\u001B[43m,\u001B[49m\n\u001B[1;32m   1541\u001B[0m \u001B[43m        \u001B[49m\u001B[43mskims\u001B[49m\u001B[38;5;241;43m=\u001B[39;49m\u001B[43mskims\u001B[49m\u001B[43m,\u001B[49m\n\u001B[1;32m   1542\u001B[0m \u001B[43m        \u001B[49m\u001B[43mlocals_d\u001B[49m\u001B[38;5;241;43m=\u001B[39;49m\u001B[43mlocals_d\u001B[49m\u001B[43m,\u001B[49m\n\u001B[1;32m   1543\u001B[0m \u001B[43m        \u001B[49m\u001B[43mcustom_chooser\u001B[49m\u001B[38;5;241;43m=\u001B[39;49m\u001B[43mcustom_chooser\u001B[49m\u001B[43m,\u001B[49m\n\u001B[1;32m   1544\u001B[0m \u001B[43m        \u001B[49m\u001B[43mlog_alt_losers\u001B[49m\u001B[38;5;241;43m=\u001B[39;49m\u001B[43mlog_alt_losers\u001B[49m\u001B[43m,\u001B[49m\n\u001B[1;32m   1545\u001B[0m \u001B[43m        \u001B[49m\u001B[43mwant_logsums\u001B[49m\u001B[38;5;241;43m=\u001B[39;49m\u001B[43mwant_logsums\u001B[49m\u001B[43m,\u001B[49m\n\u001B[1;32m   1546\u001B[0m \u001B[43m        \u001B[49m\u001B[43mestimator\u001B[49m\u001B[38;5;241;43m=\u001B[39;49m\u001B[43mestimator\u001B[49m\u001B[43m,\u001B[49m\n\u001B[1;32m   1547\u001B[0m \u001B[43m        \u001B[49m\u001B[43mtrace_label\u001B[49m\u001B[38;5;241;43m=\u001B[39;49m\u001B[43mchunk_trace_label\u001B[49m\u001B[43m,\u001B[49m\n\u001B[1;32m   1548\u001B[0m \u001B[43m        \u001B[49m\u001B[43mtrace_choice_name\u001B[49m\u001B[38;5;241;43m=\u001B[39;49m\u001B[43mtrace_choice_name\u001B[49m\u001B[43m,\u001B[49m\n\u001B[1;32m   1549\u001B[0m \u001B[43m        \u001B[49m\u001B[43mtrace_column_names\u001B[49m\u001B[38;5;241;43m=\u001B[39;49m\u001B[43mtrace_column_names\u001B[49m\u001B[43m,\u001B[49m\n\u001B[1;32m   1550\u001B[0m \u001B[43m        \u001B[49m\u001B[43mchunk_sizer\u001B[49m\u001B[38;5;241;43m=\u001B[39;49m\u001B[43mchunk_sizer\u001B[49m\u001B[43m,\u001B[49m\n\u001B[1;32m   1551\u001B[0m \u001B[43m    \u001B[49m\u001B[43m)\u001B[49m\n\u001B[1;32m   1553\u001B[0m     result_list\u001B[38;5;241m.\u001B[39mappend(choices)\n\u001B[1;32m   1555\u001B[0m     chunk_sizer\u001B[38;5;241m.\u001B[39mlog_df(trace_label, \u001B[38;5;124m\"\u001B[39m\u001B[38;5;124mresult_list\u001B[39m\u001B[38;5;124m\"\u001B[39m, result_list)\n",
      "File \u001B[0;32m~/LocalGit/activitysim/activitysim/core/workflow/steps.py:438\u001B[0m, in \u001B[0;36mfunc.<locals>.wrapper\u001B[0;34m(state, *args, **kwargs)\u001B[0m\n\u001B[1;32m    434\u001B[0m \u001B[38;5;28;01mif\u001B[39;00m \u001B[38;5;129;01mnot\u001B[39;00m \u001B[38;5;28misinstance\u001B[39m(state, State):\n\u001B[1;32m    435\u001B[0m     \u001B[38;5;28;01mraise\u001B[39;00m \u001B[38;5;167;01mTypeError\u001B[39;00m(\n\u001B[1;32m    436\u001B[0m         \u001B[38;5;124m\"\u001B[39m\u001B[38;5;124mworkflow functions must have a State as the first argument\u001B[39m\u001B[38;5;124m\"\u001B[39m\n\u001B[1;32m    437\u001B[0m     )\n\u001B[0;32m--> 438\u001B[0m \u001B[38;5;28;01mreturn\u001B[39;00m \u001B[43mfunction\u001B[49m\u001B[43m(\u001B[49m\u001B[43mstate\u001B[49m\u001B[43m,\u001B[49m\u001B[43m \u001B[49m\u001B[38;5;241;43m*\u001B[39;49m\u001B[43margs\u001B[49m\u001B[43m,\u001B[49m\u001B[43m \u001B[49m\u001B[38;5;241;43m*\u001B[39;49m\u001B[38;5;241;43m*\u001B[39;49m\u001B[43mkwargs\u001B[49m\u001B[43m)\u001B[49m\n",
      "File \u001B[0;32m~/LocalGit/activitysim/activitysim/core/simulate.py:1450\u001B[0m, in \u001B[0;36m_simple_simulate\u001B[0;34m(state, choosers, spec, nest_spec, skims, locals_d, custom_chooser, log_alt_losers, want_logsums, estimator, trace_label, trace_choice_name, trace_column_names, chunk_sizer)\u001B[0m\n\u001B[1;32m   1447\u001B[0m     set_skim_wrapper_targets(choosers, skims)\n\u001B[1;32m   1449\u001B[0m \u001B[38;5;28;01mif\u001B[39;00m nest_spec \u001B[38;5;129;01mis\u001B[39;00m \u001B[38;5;28;01mNone\u001B[39;00m:\n\u001B[0;32m-> 1450\u001B[0m     choices \u001B[38;5;241m=\u001B[39m \u001B[43meval_mnl\u001B[49m\u001B[43m(\u001B[49m\n\u001B[1;32m   1451\u001B[0m \u001B[43m        \u001B[49m\u001B[43mstate\u001B[49m\u001B[43m,\u001B[49m\n\u001B[1;32m   1452\u001B[0m \u001B[43m        \u001B[49m\u001B[43mchoosers\u001B[49m\u001B[43m,\u001B[49m\n\u001B[1;32m   1453\u001B[0m \u001B[43m        \u001B[49m\u001B[43mspec\u001B[49m\u001B[43m,\u001B[49m\n\u001B[1;32m   1454\u001B[0m \u001B[43m        \u001B[49m\u001B[43mlocals_d\u001B[49m\u001B[43m,\u001B[49m\n\u001B[1;32m   1455\u001B[0m \u001B[43m        \u001B[49m\u001B[43mcustom_chooser\u001B[49m\u001B[43m,\u001B[49m\n\u001B[1;32m   1456\u001B[0m \u001B[43m        \u001B[49m\u001B[43mlog_alt_losers\u001B[49m\u001B[38;5;241;43m=\u001B[39;49m\u001B[43mlog_alt_losers\u001B[49m\u001B[43m,\u001B[49m\n\u001B[1;32m   1457\u001B[0m \u001B[43m        \u001B[49m\u001B[43mwant_logsums\u001B[49m\u001B[38;5;241;43m=\u001B[39;49m\u001B[43mwant_logsums\u001B[49m\u001B[43m,\u001B[49m\n\u001B[1;32m   1458\u001B[0m \u001B[43m        \u001B[49m\u001B[43mestimator\u001B[49m\u001B[38;5;241;43m=\u001B[39;49m\u001B[43mestimator\u001B[49m\u001B[43m,\u001B[49m\n\u001B[1;32m   1459\u001B[0m \u001B[43m        \u001B[49m\u001B[43mtrace_label\u001B[49m\u001B[38;5;241;43m=\u001B[39;49m\u001B[43mtrace_label\u001B[49m\u001B[43m,\u001B[49m\n\u001B[1;32m   1460\u001B[0m \u001B[43m        \u001B[49m\u001B[43mtrace_choice_name\u001B[49m\u001B[38;5;241;43m=\u001B[39;49m\u001B[43mtrace_choice_name\u001B[49m\u001B[43m,\u001B[49m\n\u001B[1;32m   1461\u001B[0m \u001B[43m        \u001B[49m\u001B[43mtrace_column_names\u001B[49m\u001B[38;5;241;43m=\u001B[39;49m\u001B[43mtrace_column_names\u001B[49m\u001B[43m,\u001B[49m\n\u001B[1;32m   1462\u001B[0m \u001B[43m        \u001B[49m\u001B[43mchunk_sizer\u001B[49m\u001B[38;5;241;43m=\u001B[39;49m\u001B[43mchunk_sizer\u001B[49m\u001B[43m,\u001B[49m\n\u001B[1;32m   1463\u001B[0m \u001B[43m    \u001B[49m\u001B[43m)\u001B[49m\n\u001B[1;32m   1464\u001B[0m \u001B[38;5;28;01melse\u001B[39;00m:\n\u001B[1;32m   1465\u001B[0m     choices \u001B[38;5;241m=\u001B[39m eval_nl(\n\u001B[1;32m   1466\u001B[0m         state,\n\u001B[1;32m   1467\u001B[0m         choosers,\n\u001B[0;32m   (...)\u001B[0m\n\u001B[1;32m   1478\u001B[0m         chunk_sizer\u001B[38;5;241m=\u001B[39mchunk_sizer,\n\u001B[1;32m   1479\u001B[0m     )\n",
      "File \u001B[0;32m~/LocalGit/activitysim/activitysim/core/simulate.py:1145\u001B[0m, in \u001B[0;36meval_mnl\u001B[0;34m(state, choosers, spec, locals_d, custom_chooser, estimator, log_alt_losers, want_logsums, trace_label, trace_choice_name, trace_column_names, chunk_sizer)\u001B[0m\n\u001B[1;32m   1142\u001B[0m \u001B[38;5;28;01mif\u001B[39;00m have_trace_targets:\n\u001B[1;32m   1143\u001B[0m     state\u001B[38;5;241m.\u001B[39mtracing\u001B[38;5;241m.\u001B[39mtrace_df(choosers, \u001B[38;5;124m\"\u001B[39m\u001B[38;5;132;01m%s\u001B[39;00m\u001B[38;5;124m.choosers\u001B[39m\u001B[38;5;124m\"\u001B[39m \u001B[38;5;241m%\u001B[39m trace_label)\n\u001B[0;32m-> 1145\u001B[0m utilities \u001B[38;5;241m=\u001B[39m \u001B[43meval_utilities\u001B[49m\u001B[43m(\u001B[49m\n\u001B[1;32m   1146\u001B[0m \u001B[43m    \u001B[49m\u001B[43mstate\u001B[49m\u001B[43m,\u001B[49m\n\u001B[1;32m   1147\u001B[0m \u001B[43m    \u001B[49m\u001B[43mspec\u001B[49m\u001B[43m,\u001B[49m\n\u001B[1;32m   1148\u001B[0m \u001B[43m    \u001B[49m\u001B[43mchoosers\u001B[49m\u001B[43m,\u001B[49m\n\u001B[1;32m   1149\u001B[0m \u001B[43m    \u001B[49m\u001B[43mlocals_d\u001B[49m\u001B[43m,\u001B[49m\n\u001B[1;32m   1150\u001B[0m \u001B[43m    \u001B[49m\u001B[43mlog_alt_losers\u001B[49m\u001B[38;5;241;43m=\u001B[39;49m\u001B[43mlog_alt_losers\u001B[49m\u001B[43m,\u001B[49m\n\u001B[1;32m   1151\u001B[0m \u001B[43m    \u001B[49m\u001B[43mtrace_label\u001B[49m\u001B[38;5;241;43m=\u001B[39;49m\u001B[43mtrace_label\u001B[49m\u001B[43m,\u001B[49m\n\u001B[1;32m   1152\u001B[0m \u001B[43m    \u001B[49m\u001B[43mhave_trace_targets\u001B[49m\u001B[38;5;241;43m=\u001B[39;49m\u001B[43mhave_trace_targets\u001B[49m\u001B[43m,\u001B[49m\n\u001B[1;32m   1153\u001B[0m \u001B[43m    \u001B[49m\u001B[43mestimator\u001B[49m\u001B[38;5;241;43m=\u001B[39;49m\u001B[43mestimator\u001B[49m\u001B[43m,\u001B[49m\n\u001B[1;32m   1154\u001B[0m \u001B[43m    \u001B[49m\u001B[43mtrace_column_names\u001B[49m\u001B[38;5;241;43m=\u001B[39;49m\u001B[43mtrace_column_names\u001B[49m\u001B[43m,\u001B[49m\n\u001B[1;32m   1155\u001B[0m \u001B[43m    \u001B[49m\u001B[43mchunk_sizer\u001B[49m\u001B[38;5;241;43m=\u001B[39;49m\u001B[43mchunk_sizer\u001B[49m\u001B[43m,\u001B[49m\n\u001B[1;32m   1156\u001B[0m \u001B[43m\u001B[49m\u001B[43m)\u001B[49m\n\u001B[1;32m   1157\u001B[0m chunk_sizer\u001B[38;5;241m.\u001B[39mlog_df(trace_label, \u001B[38;5;124m\"\u001B[39m\u001B[38;5;124mutilities\u001B[39m\u001B[38;5;124m\"\u001B[39m, utilities)\n\u001B[1;32m   1159\u001B[0m \u001B[38;5;28;01mif\u001B[39;00m have_trace_targets:\n",
      "File \u001B[0;32m~/LocalGit/activitysim/activitysim/core/simulate.py:539\u001B[0m, in \u001B[0;36meval_utilities\u001B[0;34m(state, spec, choosers, locals_d, trace_label, have_trace_targets, trace_all_rows, estimator, trace_column_names, log_alt_losers, zone_layer, spec_sh, chunk_sizer)\u001B[0m\n\u001B[1;32m    537\u001B[0m \u001B[38;5;28;01mif\u001B[39;00m locals_d \u001B[38;5;129;01mis\u001B[39;00m \u001B[38;5;129;01mnot\u001B[39;00m \u001B[38;5;28;01mNone\u001B[39;00m:\n\u001B[1;32m    538\u001B[0m     locals_dict\u001B[38;5;241m.\u001B[39mupdate(locals_d)\n\u001B[0;32m--> 539\u001B[0m sh_util, sh_flow \u001B[38;5;241m=\u001B[39m \u001B[43mapply_flow\u001B[49m\u001B[43m(\u001B[49m\n\u001B[1;32m    540\u001B[0m \u001B[43m    \u001B[49m\u001B[43mstate\u001B[49m\u001B[43m,\u001B[49m\n\u001B[1;32m    541\u001B[0m \u001B[43m    \u001B[49m\u001B[43mspec_sh\u001B[49m\u001B[43m,\u001B[49m\n\u001B[1;32m    542\u001B[0m \u001B[43m    \u001B[49m\u001B[43mchoosers\u001B[49m\u001B[43m,\u001B[49m\n\u001B[1;32m    543\u001B[0m \u001B[43m    \u001B[49m\u001B[43mlocals_dict\u001B[49m\u001B[43m,\u001B[49m\n\u001B[1;32m    544\u001B[0m \u001B[43m    \u001B[49m\u001B[43mtrace_label\u001B[49m\u001B[43m,\u001B[49m\n\u001B[1;32m    545\u001B[0m \u001B[43m    \u001B[49m\u001B[43msharrow_enabled\u001B[49m\u001B[43m \u001B[49m\u001B[38;5;241;43m==\u001B[39;49m\u001B[43m \u001B[49m\u001B[38;5;124;43m\"\u001B[39;49m\u001B[38;5;124;43mrequire\u001B[39;49m\u001B[38;5;124;43m\"\u001B[39;49m\u001B[43m,\u001B[49m\n\u001B[1;32m    546\u001B[0m \u001B[43m    \u001B[49m\u001B[43mzone_layer\u001B[49m\u001B[38;5;241;43m=\u001B[39;49m\u001B[43mzone_layer\u001B[49m\u001B[43m,\u001B[49m\n\u001B[1;32m    547\u001B[0m \u001B[43m\u001B[49m\u001B[43m)\u001B[49m\n\u001B[1;32m    548\u001B[0m utilities \u001B[38;5;241m=\u001B[39m sh_util\n\u001B[1;32m    549\u001B[0m timelogger\u001B[38;5;241m.\u001B[39mmark(\u001B[38;5;124m\"\u001B[39m\u001B[38;5;124msharrow flow\u001B[39m\u001B[38;5;124m\"\u001B[39m, \u001B[38;5;28;01mTrue\u001B[39;00m, logger, trace_label)\n",
      "File \u001B[0;32m~/LocalGit/activitysim/activitysim/core/flow.py:805\u001B[0m, in \u001B[0;36mapply_flow\u001B[0;34m(state, spec, choosers, locals_d, trace_label, required, interacts, zone_layer)\u001B[0m\n\u001B[1;32m    803\u001B[0m \u001B[38;5;28;01mwith\u001B[39;00m logtime(\u001B[38;5;124mf\u001B[39m\u001B[38;5;124m\"\u001B[39m\u001B[38;5;132;01m{\u001B[39;00mflow\u001B[38;5;241m.\u001B[39mname\u001B[38;5;132;01m}\u001B[39;00m\u001B[38;5;124m.load\u001B[39m\u001B[38;5;124m\"\u001B[39m, trace_label \u001B[38;5;129;01mor\u001B[39;00m \u001B[38;5;124m\"\u001B[39m\u001B[38;5;124m\"\u001B[39m):\n\u001B[1;32m    804\u001B[0m     \u001B[38;5;28;01mtry\u001B[39;00m:\n\u001B[0;32m--> 805\u001B[0m         flow_result \u001B[38;5;241m=\u001B[39m \u001B[43mflow\u001B[49m\u001B[38;5;241;43m.\u001B[39;49m\u001B[43mdot\u001B[49m\u001B[43m(\u001B[49m\n\u001B[1;32m    806\u001B[0m \u001B[43m            \u001B[49m\u001B[43mcoefficients\u001B[49m\u001B[38;5;241;43m=\u001B[39;49m\u001B[43mspec\u001B[49m\u001B[38;5;241;43m.\u001B[39;49m\u001B[43mvalues\u001B[49m\u001B[38;5;241;43m.\u001B[39;49m\u001B[43mastype\u001B[49m\u001B[43m(\u001B[49m\u001B[43mnp\u001B[49m\u001B[38;5;241;43m.\u001B[39;49m\u001B[43mfloat32\u001B[49m\u001B[43m)\u001B[49m\u001B[43m,\u001B[49m\n\u001B[1;32m    807\u001B[0m \u001B[43m            \u001B[49m\u001B[43mdtype\u001B[49m\u001B[38;5;241;43m=\u001B[39;49m\u001B[43mnp\u001B[49m\u001B[38;5;241;43m.\u001B[39;49m\u001B[43mfloat32\u001B[49m\u001B[43m,\u001B[49m\n\u001B[1;32m    808\u001B[0m \u001B[43m            \u001B[49m\u001B[43mcompile_watch\u001B[49m\u001B[38;5;241;43m=\u001B[39;49m\u001B[38;5;28;43;01mTrue\u001B[39;49;00m\u001B[43m,\u001B[49m\n\u001B[1;32m    809\u001B[0m \u001B[43m        \u001B[49m\u001B[43m)\u001B[49m\n\u001B[1;32m    810\u001B[0m         \u001B[38;5;66;03m# TODO: are there remaining internal arrays in dot that need to be\u001B[39;00m\n\u001B[1;32m    811\u001B[0m         \u001B[38;5;66;03m#  passed out to be seen by the dynamic chunker before they are freed?\u001B[39;00m\n\u001B[1;32m    812\u001B[0m     \u001B[38;5;28;01mexcept\u001B[39;00m \u001B[38;5;167;01mValueError\u001B[39;00m \u001B[38;5;28;01mas\u001B[39;00m err:\n",
      "File \u001B[0;32m~/LocalGit/sharrow/sharrow/flows.py:2540\u001B[0m, in \u001B[0;36mFlow.dot\u001B[0;34m(self, coefficients, source, dtype, compile_watch)\u001B[0m\n\u001B[1;32m   2515\u001B[0m \u001B[38;5;28;01mdef\u001B[39;00m \u001B[38;5;21mdot\u001B[39m(\u001B[38;5;28mself\u001B[39m, coefficients, source\u001B[38;5;241m=\u001B[39m\u001B[38;5;28;01mNone\u001B[39;00m, dtype\u001B[38;5;241m=\u001B[39m\u001B[38;5;28;01mNone\u001B[39;00m, compile_watch\u001B[38;5;241m=\u001B[39m\u001B[38;5;28;01mFalse\u001B[39;00m):\n\u001B[1;32m   2516\u001B[0m \u001B[38;5;250m    \u001B[39m\u001B[38;5;124;03m\"\"\"\u001B[39;00m\n\u001B[1;32m   2517\u001B[0m \u001B[38;5;124;03m    Compute the dot-product of expression results and coefficients.\u001B[39;00m\n\u001B[1;32m   2518\u001B[0m \n\u001B[0;32m   (...)\u001B[0m\n\u001B[1;32m   2538\u001B[0m \u001B[38;5;124;03m    numpy.ndarray\u001B[39;00m\n\u001B[1;32m   2539\u001B[0m \u001B[38;5;124;03m    \"\"\"\u001B[39;00m\n\u001B[0;32m-> 2540\u001B[0m     \u001B[38;5;28;01mreturn\u001B[39;00m \u001B[38;5;28;43mself\u001B[39;49m\u001B[38;5;241;43m.\u001B[39;49m\u001B[43m_load\u001B[49m\u001B[43m(\u001B[49m\n\u001B[1;32m   2541\u001B[0m \u001B[43m        \u001B[49m\u001B[43msource\u001B[49m\u001B[43m,\u001B[49m\n\u001B[1;32m   2542\u001B[0m \u001B[43m        \u001B[49m\u001B[43mdot\u001B[49m\u001B[38;5;241;43m=\u001B[39;49m\u001B[43mcoefficients\u001B[49m\u001B[43m,\u001B[49m\n\u001B[1;32m   2543\u001B[0m \u001B[43m        \u001B[49m\u001B[43mdtype\u001B[49m\u001B[38;5;241;43m=\u001B[39;49m\u001B[43mdtype\u001B[49m\u001B[43m,\u001B[49m\n\u001B[1;32m   2544\u001B[0m \u001B[43m        \u001B[49m\u001B[43mcompile_watch\u001B[49m\u001B[38;5;241;43m=\u001B[39;49m\u001B[43mcompile_watch\u001B[49m\u001B[43m,\u001B[49m\n\u001B[1;32m   2545\u001B[0m \u001B[43m    \u001B[49m\u001B[43m)\u001B[49m\n",
      "File \u001B[0;32m~/LocalGit/sharrow/sharrow/flows.py:2316\u001B[0m, in \u001B[0;36mFlow._load\u001B[0;34m(self, source, as_dataframe, as_dataarray, as_table, runner, dtype, dot, logit_draws, pick_counted, compile_watch, logsums, nesting, mask)\u001B[0m\n\u001B[1;32m   2314\u001B[0m \u001B[38;5;28;01mif\u001B[39;00m source\u001B[38;5;241m.\u001B[39mrelationships_are_digitized:\n\u001B[1;32m   2315\u001B[0m     \u001B[38;5;28;01mif\u001B[39;00m logit_draws \u001B[38;5;129;01mis\u001B[39;00m \u001B[38;5;28;01mNone\u001B[39;00m:\n\u001B[0;32m-> 2316\u001B[0m         result \u001B[38;5;241m=\u001B[39m \u001B[38;5;28;43mself\u001B[39;49m\u001B[38;5;241;43m.\u001B[39;49m\u001B[43m_iload_raw\u001B[49m\u001B[43m(\u001B[49m\n\u001B[1;32m   2317\u001B[0m \u001B[43m            \u001B[49m\u001B[43msource\u001B[49m\u001B[43m,\u001B[49m\n\u001B[1;32m   2318\u001B[0m \u001B[43m            \u001B[49m\u001B[43mrunner\u001B[49m\u001B[38;5;241;43m=\u001B[39;49m\u001B[43mrunner\u001B[49m\u001B[43m,\u001B[49m\n\u001B[1;32m   2319\u001B[0m \u001B[43m            \u001B[49m\u001B[43mdtype\u001B[49m\u001B[38;5;241;43m=\u001B[39;49m\u001B[43mdtype\u001B[49m\u001B[43m,\u001B[49m\n\u001B[1;32m   2320\u001B[0m \u001B[43m            \u001B[49m\u001B[43mdot\u001B[49m\u001B[38;5;241;43m=\u001B[39;49m\u001B[43mdot\u001B[49m\u001B[43m,\u001B[49m\n\u001B[1;32m   2321\u001B[0m \u001B[43m            \u001B[49m\u001B[43mmask\u001B[49m\u001B[38;5;241;43m=\u001B[39;49m\u001B[43mmask\u001B[49m\u001B[43m,\u001B[49m\n\u001B[1;32m   2322\u001B[0m \u001B[43m            \u001B[49m\u001B[43mcompile_watch\u001B[49m\u001B[38;5;241;43m=\u001B[39;49m\u001B[43mcompile_watch\u001B[49m\u001B[43m,\u001B[49m\n\u001B[1;32m   2323\u001B[0m \u001B[43m        \u001B[49m\u001B[43m)\u001B[49m\n\u001B[1;32m   2324\u001B[0m     \u001B[38;5;28;01melse\u001B[39;00m:\n\u001B[1;32m   2325\u001B[0m         result, result_p, pick_count, out_logsum \u001B[38;5;241m=\u001B[39m \u001B[38;5;28mself\u001B[39m\u001B[38;5;241m.\u001B[39m_iload_raw(\n\u001B[1;32m   2326\u001B[0m             source,\n\u001B[1;32m   2327\u001B[0m             runner\u001B[38;5;241m=\u001B[39mrunner,\n\u001B[0;32m   (...)\u001B[0m\n\u001B[1;32m   2335\u001B[0m             compile_watch\u001B[38;5;241m=\u001B[39mcompile_watch,\n\u001B[1;32m   2336\u001B[0m         )\n",
      "File \u001B[0;32m~/LocalGit/sharrow/sharrow/flows.py:2031\u001B[0m, in \u001B[0;36mFlow._iload_raw\u001B[0;34m(self, rg, runner, dtype, dot, mnl, pick_counted, logsums, nesting, mask, compile_watch)\u001B[0m\n\u001B[1;32m   2029\u001B[0m problem \u001B[38;5;241m=\u001B[39m re\u001B[38;5;241m.\u001B[39msearch(\u001B[38;5;124m\"\u001B[39m\u001B[38;5;124mNameError: (.*)\u001B[39m\u001B[38;5;130;01m\\x1b\u001B[39;00m\u001B[38;5;124m\"\u001B[39m, err\u001B[38;5;241m.\u001B[39margs[\u001B[38;5;241m0\u001B[39m])\n\u001B[1;32m   2030\u001B[0m \u001B[38;5;28;01mif\u001B[39;00m problem:\n\u001B[0;32m-> 2031\u001B[0m     \u001B[38;5;28;01mraise\u001B[39;00m \u001B[38;5;167;01mNameError\u001B[39;00m(problem\u001B[38;5;241m.\u001B[39mgroup(\u001B[38;5;241m1\u001B[39m)) \u001B[38;5;28;01mfrom\u001B[39;00m \u001B[38;5;21;01merr\u001B[39;00m\n\u001B[1;32m   2032\u001B[0m problem \u001B[38;5;241m=\u001B[39m re\u001B[38;5;241m.\u001B[39msearch(\u001B[38;5;124m\"\u001B[39m\u001B[38;5;124mNameError: (.*)\u001B[39m\u001B[38;5;130;01m\\n\u001B[39;00m\u001B[38;5;124m\"\u001B[39m, err\u001B[38;5;241m.\u001B[39margs[\u001B[38;5;241m0\u001B[39m])\n\u001B[1;32m   2033\u001B[0m \u001B[38;5;28;01mif\u001B[39;00m problem:\n",
      "\u001B[0;31mNameError\u001B[0m: name 'auNormPkTotal' is not defined"
     ]
    }
   ],
   "source": [
    "state.run.ldt_tour_gen_household()"
   ]
  },
  {
   "cell_type": "code",
   "execution_count": null,
   "id": "1693cd01-feb7-43ce-bf5b-ed25e2e467ea",
   "metadata": {
    "execution": {
     "iopub.status.busy": "2023-02-23T01:26:40.768623Z",
     "iopub.status.idle": "2023-02-23T01:26:40.769277Z",
     "shell.execute_reply": "2023-02-23T01:26:40.768985Z",
     "shell.execute_reply.started": "2023-02-23T01:26:40.768967Z"
    },
    "tags": []
   },
   "outputs": [],
   "source": [
    "state.run.ldt_tour_gen_person()"
   ]
  },
  {
   "cell_type": "code",
   "execution_count": null,
   "id": "3273261b-b085-45de-8605-e1e1b9ebcff8",
   "metadata": {
    "execution": {
     "iopub.status.busy": "2023-02-23T01:26:40.771277Z",
     "iopub.status.idle": "2023-02-23T01:26:40.771678Z",
     "shell.execute_reply": "2023-02-23T01:26:40.771520Z",
     "shell.execute_reply.started": "2023-02-23T01:26:40.771503Z"
    },
    "tags": []
   },
   "outputs": [],
   "source": [
    "state.run.ldt_pattern_household()"
   ]
  },
  {
   "cell_type": "code",
   "execution_count": null,
   "id": "dfb206ba-2329-4570-ab92-ee7055ef28e8",
   "metadata": {
    "execution": {
     "iopub.status.busy": "2023-02-23T01:26:40.772988Z",
     "iopub.status.idle": "2023-02-23T01:26:40.773352Z",
     "shell.execute_reply": "2023-02-23T01:26:40.773227Z",
     "shell.execute_reply.started": "2023-02-23T01:26:40.773177Z"
    },
    "tags": []
   },
   "outputs": [],
   "source": [
    "state.settings.models"
   ]
  },
  {
   "cell_type": "code",
   "execution_count": null,
   "id": "3816e4c3-18ff-4b7a-a4ec-ea1f9bfc924e",
   "metadata": {},
   "outputs": [],
   "source": []
  }
 ],
 "metadata": {
  "kernelspec": {
   "display_name": "Python 3 (ipykernel)",
   "language": "python",
   "name": "python3"
  },
  "language_info": {
   "codemirror_mode": {
    "name": "ipython",
    "version": 3
   },
   "file_extension": ".py",
   "mimetype": "text/x-python",
   "name": "python",
   "nbconvert_exporter": "python",
   "pygments_lexer": "ipython3",
   "version": "3.10.9"
  }
 },
 "nbformat": 4,
 "nbformat_minor": 5
}
