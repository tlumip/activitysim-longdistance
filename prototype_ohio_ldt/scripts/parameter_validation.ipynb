{
 "cells": [
  {
   "cell_type": "code",
   "execution_count": 1,
   "metadata": {},
   "outputs": [],
   "source": [
    "import numpy as np\n",
    "import pandas as pd\n",
    "import seaborn as sns\n",
    "import matplotlib.pyplot as plt"
   ]
  },
  {
   "cell_type": "code",
   "execution_count": 2,
   "metadata": {},
   "outputs": [
    {
     "data": {
      "text/html": [
       "<div>\n",
       "<style scoped>\n",
       "    .dataframe tbody tr th:only-of-type {\n",
       "        vertical-align: middle;\n",
       "    }\n",
       "\n",
       "    .dataframe tbody tr th {\n",
       "        vertical-align: top;\n",
       "    }\n",
       "\n",
       "    .dataframe thead th {\n",
       "        text-align: right;\n",
       "    }\n",
       "</style>\n",
       "<table border=\"1\" class=\"dataframe\">\n",
       "  <thead>\n",
       "    <tr style=\"text-align: right;\">\n",
       "      <th></th>\n",
       "      <th>longdist_tour_id</th>\n",
       "      <th>person_id</th>\n",
       "      <th>tour_type</th>\n",
       "      <th>tour_type_count</th>\n",
       "      <th>tour_type_num</th>\n",
       "      <th>tour_num</th>\n",
       "      <th>tour_count</th>\n",
       "      <th>tour_category</th>\n",
       "      <th>number_of_participants</th>\n",
       "      <th>household_id</th>\n",
       "      <th>...</th>\n",
       "      <th>ldt_end_hour</th>\n",
       "      <th>internal_external</th>\n",
       "      <th>external_destchoice</th>\n",
       "      <th>external_tour_mode</th>\n",
       "      <th>travelers_occupation</th>\n",
       "      <th>ldt_tour_segment</th>\n",
       "      <th>internal_destination</th>\n",
       "      <th>destination_logsum</th>\n",
       "      <th>tour_mode</th>\n",
       "      <th>ldt_mode_choice_logsum</th>\n",
       "    </tr>\n",
       "  </thead>\n",
       "  <tbody>\n",
       "    <tr>\n",
       "      <th>0</th>\n",
       "      <td>558199280</td>\n",
       "      <td>4014188</td>\n",
       "      <td>longdist_household</td>\n",
       "      <td>1</td>\n",
       "      <td>1</td>\n",
       "      <td>1</td>\n",
       "      <td>1</td>\n",
       "      <td>longdist</td>\n",
       "      <td>3</td>\n",
       "      <td>1726858</td>\n",
       "      <td>...</td>\n",
       "      <td>13</td>\n",
       "      <td>0</td>\n",
       "      <td>-1</td>\n",
       "      <td>-1</td>\n",
       "      <td>0</td>\n",
       "      <td>household_day</td>\n",
       "      <td>4963</td>\n",
       "      <td>4.599764</td>\n",
       "      <td>PRIVATEAUTO</td>\n",
       "      <td>-1.077483</td>\n",
       "    </tr>\n",
       "    <tr>\n",
       "      <th>1</th>\n",
       "      <td>1243917970</td>\n",
       "      <td>9251947</td>\n",
       "      <td>longdist_household</td>\n",
       "      <td>1</td>\n",
       "      <td>1</td>\n",
       "      <td>1</td>\n",
       "      <td>1</td>\n",
       "      <td>longdist</td>\n",
       "      <td>3</td>\n",
       "      <td>3837995</td>\n",
       "      <td>...</td>\n",
       "      <td>12</td>\n",
       "      <td>1</td>\n",
       "      <td>5089</td>\n",
       "      <td>DRIVE</td>\n",
       "      <td>8</td>\n",
       "      <td>household_overnight</td>\n",
       "      <td>-1</td>\n",
       "      <td>NaN</td>\n",
       "      <td>-1</td>\n",
       "      <td>NaN</td>\n",
       "    </tr>\n",
       "    <tr>\n",
       "      <th>2</th>\n",
       "      <td>1678800620</td>\n",
       "      <td>12346292</td>\n",
       "      <td>longdist_household</td>\n",
       "      <td>1</td>\n",
       "      <td>1</td>\n",
       "      <td>1</td>\n",
       "      <td>1</td>\n",
       "      <td>longdist</td>\n",
       "      <td>2</td>\n",
       "      <td>5184459</td>\n",
       "      <td>...</td>\n",
       "      <td>20</td>\n",
       "      <td>0</td>\n",
       "      <td>-1</td>\n",
       "      <td>-1</td>\n",
       "      <td>8</td>\n",
       "      <td>household_day</td>\n",
       "      <td>974</td>\n",
       "      <td>2.197398</td>\n",
       "      <td>PRIVATEAUTO</td>\n",
       "      <td>-1.295714</td>\n",
       "    </tr>\n",
       "    <tr>\n",
       "      <th>3</th>\n",
       "      <td>1051629010</td>\n",
       "      <td>7599511</td>\n",
       "      <td>longdist_household</td>\n",
       "      <td>1</td>\n",
       "      <td>1</td>\n",
       "      <td>1</td>\n",
       "      <td>1</td>\n",
       "      <td>longdist</td>\n",
       "      <td>1</td>\n",
       "      <td>3252113</td>\n",
       "      <td>...</td>\n",
       "      <td>23</td>\n",
       "      <td>0</td>\n",
       "      <td>-1</td>\n",
       "      <td>-1</td>\n",
       "      <td>16</td>\n",
       "      <td>household_day</td>\n",
       "      <td>1671</td>\n",
       "      <td>5.766784</td>\n",
       "      <td>PRIVATEAUTO</td>\n",
       "      <td>-0.859164</td>\n",
       "    </tr>\n",
       "    <tr>\n",
       "      <th>4</th>\n",
       "      <td>1758304310</td>\n",
       "      <td>13126061</td>\n",
       "      <td>longdist_household</td>\n",
       "      <td>1</td>\n",
       "      <td>1</td>\n",
       "      <td>1</td>\n",
       "      <td>1</td>\n",
       "      <td>longdist</td>\n",
       "      <td>2</td>\n",
       "      <td>5423479</td>\n",
       "      <td>...</td>\n",
       "      <td>17</td>\n",
       "      <td>0</td>\n",
       "      <td>-1</td>\n",
       "      <td>-1</td>\n",
       "      <td>0</td>\n",
       "      <td>household_day</td>\n",
       "      <td>1417</td>\n",
       "      <td>7.439552</td>\n",
       "      <td>PRIVATEAUTO</td>\n",
       "      <td>-1.070218</td>\n",
       "    </tr>\n",
       "    <tr>\n",
       "      <th>...</th>\n",
       "      <td>...</td>\n",
       "      <td>...</td>\n",
       "      <td>...</td>\n",
       "      <td>...</td>\n",
       "      <td>...</td>\n",
       "      <td>...</td>\n",
       "      <td>...</td>\n",
       "      <td>...</td>\n",
       "      <td>...</td>\n",
       "      <td>...</td>\n",
       "      <td>...</td>\n",
       "      <td>...</td>\n",
       "      <td>...</td>\n",
       "      <td>...</td>\n",
       "      <td>...</td>\n",
       "      <td>...</td>\n",
       "      <td>...</td>\n",
       "      <td>...</td>\n",
       "      <td>...</td>\n",
       "      <td>...</td>\n",
       "      <td>...</td>\n",
       "    </tr>\n",
       "    <tr>\n",
       "      <th>18864</th>\n",
       "      <td>1828959062</td>\n",
       "      <td>13640856</td>\n",
       "      <td>longdist_person_OTHER</td>\n",
       "      <td>1</td>\n",
       "      <td>1</td>\n",
       "      <td>1</td>\n",
       "      <td>1</td>\n",
       "      <td>longdist</td>\n",
       "      <td>1</td>\n",
       "      <td>5641835</td>\n",
       "      <td>...</td>\n",
       "      <td>17</td>\n",
       "      <td>0</td>\n",
       "      <td>-1</td>\n",
       "      <td>-1</td>\n",
       "      <td>20</td>\n",
       "      <td>other_day_nonstudent</td>\n",
       "      <td>85</td>\n",
       "      <td>5.777245</td>\n",
       "      <td>PRIVATEAUTO</td>\n",
       "      <td>-0.846181</td>\n",
       "    </tr>\n",
       "    <tr>\n",
       "      <th>18865</th>\n",
       "      <td>1829080152</td>\n",
       "      <td>13642285</td>\n",
       "      <td>longdist_person_OTHER</td>\n",
       "      <td>1</td>\n",
       "      <td>1</td>\n",
       "      <td>1</td>\n",
       "      <td>1</td>\n",
       "      <td>longdist</td>\n",
       "      <td>1</td>\n",
       "      <td>5642191</td>\n",
       "      <td>...</td>\n",
       "      <td>9</td>\n",
       "      <td>1</td>\n",
       "      <td>4503</td>\n",
       "      <td>DRIVE</td>\n",
       "      <td>20</td>\n",
       "      <td>other_overnight_student</td>\n",
       "      <td>-1</td>\n",
       "      <td>NaN</td>\n",
       "      <td>-1</td>\n",
       "      <td>NaN</td>\n",
       "    </tr>\n",
       "    <tr>\n",
       "      <th>18866</th>\n",
       "      <td>1829120112</td>\n",
       "      <td>13642741</td>\n",
       "      <td>longdist_person_OTHER</td>\n",
       "      <td>1</td>\n",
       "      <td>1</td>\n",
       "      <td>1</td>\n",
       "      <td>1</td>\n",
       "      <td>longdist</td>\n",
       "      <td>1</td>\n",
       "      <td>5642309</td>\n",
       "      <td>...</td>\n",
       "      <td>21</td>\n",
       "      <td>0</td>\n",
       "      <td>-1</td>\n",
       "      <td>-1</td>\n",
       "      <td>20</td>\n",
       "      <td>other_day_nonstudent</td>\n",
       "      <td>397</td>\n",
       "      <td>4.399462</td>\n",
       "      <td>PRIVATEAUTO</td>\n",
       "      <td>-0.857665</td>\n",
       "    </tr>\n",
       "    <tr>\n",
       "      <th>18867</th>\n",
       "      <td>1829225552</td>\n",
       "      <td>13643955</td>\n",
       "      <td>longdist_person_OTHER</td>\n",
       "      <td>1</td>\n",
       "      <td>1</td>\n",
       "      <td>1</td>\n",
       "      <td>1</td>\n",
       "      <td>longdist</td>\n",
       "      <td>1</td>\n",
       "      <td>5642620</td>\n",
       "      <td>...</td>\n",
       "      <td>13</td>\n",
       "      <td>0</td>\n",
       "      <td>-1</td>\n",
       "      <td>-1</td>\n",
       "      <td>18</td>\n",
       "      <td>other_day_nonstudent</td>\n",
       "      <td>320</td>\n",
       "      <td>5.151550</td>\n",
       "      <td>PRIVATEAUTO</td>\n",
       "      <td>-0.697245</td>\n",
       "    </tr>\n",
       "    <tr>\n",
       "      <th>18868</th>\n",
       "      <td>1829299722</td>\n",
       "      <td>13644802</td>\n",
       "      <td>longdist_person_OTHER</td>\n",
       "      <td>1</td>\n",
       "      <td>1</td>\n",
       "      <td>1</td>\n",
       "      <td>1</td>\n",
       "      <td>longdist</td>\n",
       "      <td>1</td>\n",
       "      <td>5642839</td>\n",
       "      <td>...</td>\n",
       "      <td>20</td>\n",
       "      <td>0</td>\n",
       "      <td>-1</td>\n",
       "      <td>-1</td>\n",
       "      <td>21</td>\n",
       "      <td>other_day_nonstudent</td>\n",
       "      <td>2507</td>\n",
       "      <td>4.409136</td>\n",
       "      <td>PRIVATEAUTO</td>\n",
       "      <td>-0.859474</td>\n",
       "    </tr>\n",
       "  </tbody>\n",
       "</table>\n",
       "<p>18869 rows × 24 columns</p>\n",
       "</div>"
      ],
      "text/plain": [
       "       longdist_tour_id  person_id              tour_type  tour_type_count  \\\n",
       "0             558199280    4014188     longdist_household                1   \n",
       "1            1243917970    9251947     longdist_household                1   \n",
       "2            1678800620   12346292     longdist_household                1   \n",
       "3            1051629010    7599511     longdist_household                1   \n",
       "4            1758304310   13126061     longdist_household                1   \n",
       "...                 ...        ...                    ...              ...   \n",
       "18864        1828959062   13640856  longdist_person_OTHER                1   \n",
       "18865        1829080152   13642285  longdist_person_OTHER                1   \n",
       "18866        1829120112   13642741  longdist_person_OTHER                1   \n",
       "18867        1829225552   13643955  longdist_person_OTHER                1   \n",
       "18868        1829299722   13644802  longdist_person_OTHER                1   \n",
       "\n",
       "       tour_type_num  tour_num  tour_count tour_category  \\\n",
       "0                  1         1           1      longdist   \n",
       "1                  1         1           1      longdist   \n",
       "2                  1         1           1      longdist   \n",
       "3                  1         1           1      longdist   \n",
       "4                  1         1           1      longdist   \n",
       "...              ...       ...         ...           ...   \n",
       "18864              1         1           1      longdist   \n",
       "18865              1         1           1      longdist   \n",
       "18866              1         1           1      longdist   \n",
       "18867              1         1           1      longdist   \n",
       "18868              1         1           1      longdist   \n",
       "\n",
       "       number_of_participants  household_id  ...  ldt_end_hour  \\\n",
       "0                           3       1726858  ...            13   \n",
       "1                           3       3837995  ...            12   \n",
       "2                           2       5184459  ...            20   \n",
       "3                           1       3252113  ...            23   \n",
       "4                           2       5423479  ...            17   \n",
       "...                       ...           ...  ...           ...   \n",
       "18864                       1       5641835  ...            17   \n",
       "18865                       1       5642191  ...             9   \n",
       "18866                       1       5642309  ...            21   \n",
       "18867                       1       5642620  ...            13   \n",
       "18868                       1       5642839  ...            20   \n",
       "\n",
       "       internal_external external_destchoice  external_tour_mode  \\\n",
       "0                      0                  -1                  -1   \n",
       "1                      1                5089               DRIVE   \n",
       "2                      0                  -1                  -1   \n",
       "3                      0                  -1                  -1   \n",
       "4                      0                  -1                  -1   \n",
       "...                  ...                 ...                 ...   \n",
       "18864                  0                  -1                  -1   \n",
       "18865                  1                4503               DRIVE   \n",
       "18866                  0                  -1                  -1   \n",
       "18867                  0                  -1                  -1   \n",
       "18868                  0                  -1                  -1   \n",
       "\n",
       "       travelers_occupation         ldt_tour_segment  internal_destination  \\\n",
       "0                         0            household_day                  4963   \n",
       "1                         8      household_overnight                    -1   \n",
       "2                         8            household_day                   974   \n",
       "3                        16            household_day                  1671   \n",
       "4                         0            household_day                  1417   \n",
       "...                     ...                      ...                   ...   \n",
       "18864                    20     other_day_nonstudent                    85   \n",
       "18865                    20  other_overnight_student                    -1   \n",
       "18866                    20     other_day_nonstudent                   397   \n",
       "18867                    18     other_day_nonstudent                   320   \n",
       "18868                    21     other_day_nonstudent                  2507   \n",
       "\n",
       "      destination_logsum    tour_mode ldt_mode_choice_logsum  \n",
       "0               4.599764  PRIVATEAUTO              -1.077483  \n",
       "1                    NaN           -1                    NaN  \n",
       "2               2.197398  PRIVATEAUTO              -1.295714  \n",
       "3               5.766784  PRIVATEAUTO              -0.859164  \n",
       "4               7.439552  PRIVATEAUTO              -1.070218  \n",
       "...                  ...          ...                    ...  \n",
       "18864           5.777245  PRIVATEAUTO              -0.846181  \n",
       "18865                NaN           -1                    NaN  \n",
       "18866           4.399462  PRIVATEAUTO              -0.857665  \n",
       "18867           5.151550  PRIVATEAUTO              -0.697245  \n",
       "18868           4.409136  PRIVATEAUTO              -0.859474  \n",
       "\n",
       "[18869 rows x 24 columns]"
      ]
     },
     "execution_count": 2,
     "metadata": {},
     "output_type": "execute_result"
    }
   ],
   "source": [
    "asim_results = pd.read_csv(\"outputs/final_longdist_tours.csv\") # tours\n",
    "asim_persons = pd.read_csv(\"outputs/final_persons.csv\")\n",
    "asim_hh = pd.read_csv(\"outputs/final_households.csv\")\n",
    "asim_results"
   ]
  },
  {
   "cell_type": "code",
   "execution_count": 3,
   "metadata": {},
   "outputs": [
    {
     "data": {
      "text/html": [
       "<div>\n",
       "<style scoped>\n",
       "    .dataframe tbody tr th:only-of-type {\n",
       "        vertical-align: middle;\n",
       "    }\n",
       "\n",
       "    .dataframe tbody tr th {\n",
       "        vertical-align: top;\n",
       "    }\n",
       "\n",
       "    .dataframe thead th {\n",
       "        text-align: right;\n",
       "    }\n",
       "</style>\n",
       "<table border=\"1\" class=\"dataframe\">\n",
       "  <thead>\n",
       "    <tr style=\"text-align: right;\">\n",
       "      <th></th>\n",
       "      <th>hhID</th>\n",
       "      <th>memberID</th>\n",
       "      <th>tourID</th>\n",
       "      <th>income</th>\n",
       "      <th>tourPurpose</th>\n",
       "      <th>tourMode</th>\n",
       "      <th>patternType</th>\n",
       "      <th>destinationType</th>\n",
       "      <th>home</th>\n",
       "      <th>destination</th>\n",
       "      <th>distance</th>\n",
       "      <th>outboundTravelTime</th>\n",
       "      <th>inboundTravelTime</th>\n",
       "      <th>departureTime</th>\n",
       "      <th>arrivalTime</th>\n",
       "      <th>durationTime</th>\n",
       "      <th>partySize</th>\n",
       "      <th>tripMode</th>\n",
       "    </tr>\n",
       "  </thead>\n",
       "  <tbody>\n",
       "    <tr>\n",
       "      <th>0</th>\n",
       "      <td>36990</td>\n",
       "      <td>1</td>\n",
       "      <td>0</td>\n",
       "      <td>7100</td>\n",
       "      <td>OTHER</td>\n",
       "      <td>AIR</td>\n",
       "      <td>BEGIN_TOUR</td>\n",
       "      <td>EXTERNAL</td>\n",
       "      <td>1404</td>\n",
       "      <td>3814</td>\n",
       "      <td>105.02</td>\n",
       "      <td>0.00</td>\n",
       "      <td>0.00</td>\n",
       "      <td>700</td>\n",
       "      <td>-1</td>\n",
       "      <td>-1</td>\n",
       "      <td>1</td>\n",
       "      <td>AIR</td>\n",
       "    </tr>\n",
       "    <tr>\n",
       "      <th>1</th>\n",
       "      <td>37200</td>\n",
       "      <td>1</td>\n",
       "      <td>1</td>\n",
       "      <td>18100</td>\n",
       "      <td>OTHER</td>\n",
       "      <td>AUTO</td>\n",
       "      <td>COMPLETE_TOUR</td>\n",
       "      <td>INTERNAL</td>\n",
       "      <td>1334</td>\n",
       "      <td>4196</td>\n",
       "      <td>51.05</td>\n",
       "      <td>68.01</td>\n",
       "      <td>70.74</td>\n",
       "      <td>900</td>\n",
       "      <td>1800</td>\n",
       "      <td>540</td>\n",
       "      <td>1</td>\n",
       "      <td>SR2</td>\n",
       "    </tr>\n",
       "    <tr>\n",
       "      <th>2</th>\n",
       "      <td>38382</td>\n",
       "      <td>1</td>\n",
       "      <td>2</td>\n",
       "      <td>1800</td>\n",
       "      <td>OTHER</td>\n",
       "      <td>AUTO</td>\n",
       "      <td>COMPLETE_TOUR</td>\n",
       "      <td>INTERNAL</td>\n",
       "      <td>1446</td>\n",
       "      <td>1205</td>\n",
       "      <td>65.73</td>\n",
       "      <td>70.06</td>\n",
       "      <td>70.04</td>\n",
       "      <td>800</td>\n",
       "      <td>1200</td>\n",
       "      <td>240</td>\n",
       "      <td>1</td>\n",
       "      <td>SR3P</td>\n",
       "    </tr>\n",
       "    <tr>\n",
       "      <th>3</th>\n",
       "      <td>39144</td>\n",
       "      <td>1</td>\n",
       "      <td>3</td>\n",
       "      <td>11400</td>\n",
       "      <td>OTHER</td>\n",
       "      <td>AUTO</td>\n",
       "      <td>COMPLETE_TOUR</td>\n",
       "      <td>INTERNAL</td>\n",
       "      <td>3080</td>\n",
       "      <td>822</td>\n",
       "      <td>53.89</td>\n",
       "      <td>56.59</td>\n",
       "      <td>56.93</td>\n",
       "      <td>1600</td>\n",
       "      <td>2300</td>\n",
       "      <td>420</td>\n",
       "      <td>1</td>\n",
       "      <td>DA</td>\n",
       "    </tr>\n",
       "    <tr>\n",
       "      <th>4</th>\n",
       "      <td>39330</td>\n",
       "      <td>1</td>\n",
       "      <td>4</td>\n",
       "      <td>17000</td>\n",
       "      <td>OTHER</td>\n",
       "      <td>TRANSIT_WALK</td>\n",
       "      <td>BEGIN_TOUR</td>\n",
       "      <td>INTERNAL</td>\n",
       "      <td>2198</td>\n",
       "      <td>615</td>\n",
       "      <td>59.53</td>\n",
       "      <td>368.89</td>\n",
       "      <td>413.22</td>\n",
       "      <td>1400</td>\n",
       "      <td>-1</td>\n",
       "      <td>-1</td>\n",
       "      <td>1</td>\n",
       "      <td>TRANSIT_WALK</td>\n",
       "    </tr>\n",
       "    <tr>\n",
       "      <th>...</th>\n",
       "      <td>...</td>\n",
       "      <td>...</td>\n",
       "      <td>...</td>\n",
       "      <td>...</td>\n",
       "      <td>...</td>\n",
       "      <td>...</td>\n",
       "      <td>...</td>\n",
       "      <td>...</td>\n",
       "      <td>...</td>\n",
       "      <td>...</td>\n",
       "      <td>...</td>\n",
       "      <td>...</td>\n",
       "      <td>...</td>\n",
       "      <td>...</td>\n",
       "      <td>...</td>\n",
       "      <td>...</td>\n",
       "      <td>...</td>\n",
       "      <td>...</td>\n",
       "    </tr>\n",
       "    <tr>\n",
       "      <th>83537</th>\n",
       "      <td>5626035</td>\n",
       "      <td>1</td>\n",
       "      <td>172</td>\n",
       "      <td>104000</td>\n",
       "      <td>WORKRELATED</td>\n",
       "      <td>AUTO</td>\n",
       "      <td>COMPLETE_TOUR</td>\n",
       "      <td>INTERNAL</td>\n",
       "      <td>689</td>\n",
       "      <td>3137</td>\n",
       "      <td>57.23</td>\n",
       "      <td>65.93</td>\n",
       "      <td>64.08</td>\n",
       "      <td>1600</td>\n",
       "      <td>2000</td>\n",
       "      <td>240</td>\n",
       "      <td>1</td>\n",
       "      <td>DA</td>\n",
       "    </tr>\n",
       "    <tr>\n",
       "      <th>83538</th>\n",
       "      <td>5626035</td>\n",
       "      <td>2</td>\n",
       "      <td>173</td>\n",
       "      <td>104000</td>\n",
       "      <td>WORKRELATED</td>\n",
       "      <td>AUTO</td>\n",
       "      <td>COMPLETE_TOUR</td>\n",
       "      <td>INTERNAL</td>\n",
       "      <td>689</td>\n",
       "      <td>3142</td>\n",
       "      <td>58.83</td>\n",
       "      <td>64.55</td>\n",
       "      <td>62.80</td>\n",
       "      <td>1600</td>\n",
       "      <td>2000</td>\n",
       "      <td>240</td>\n",
       "      <td>1</td>\n",
       "      <td>DA</td>\n",
       "    </tr>\n",
       "    <tr>\n",
       "      <th>83539</th>\n",
       "      <td>5626110</td>\n",
       "      <td>1</td>\n",
       "      <td>174</td>\n",
       "      <td>102200</td>\n",
       "      <td>OTHER</td>\n",
       "      <td>AUTO</td>\n",
       "      <td>BEGIN_TOUR</td>\n",
       "      <td>INTERNAL</td>\n",
       "      <td>1135</td>\n",
       "      <td>603</td>\n",
       "      <td>155.06</td>\n",
       "      <td>150.07</td>\n",
       "      <td>148.57</td>\n",
       "      <td>1700</td>\n",
       "      <td>-1</td>\n",
       "      <td>-1</td>\n",
       "      <td>1</td>\n",
       "      <td>SR2</td>\n",
       "    </tr>\n",
       "    <tr>\n",
       "      <th>83540</th>\n",
       "      <td>5626110</td>\n",
       "      <td>2</td>\n",
       "      <td>175</td>\n",
       "      <td>102200</td>\n",
       "      <td>OTHER</td>\n",
       "      <td>AUTO</td>\n",
       "      <td>BEGIN_TOUR</td>\n",
       "      <td>INTERNAL</td>\n",
       "      <td>1135</td>\n",
       "      <td>593</td>\n",
       "      <td>159.64</td>\n",
       "      <td>153.97</td>\n",
       "      <td>153.69</td>\n",
       "      <td>1700</td>\n",
       "      <td>-1</td>\n",
       "      <td>-1</td>\n",
       "      <td>1</td>\n",
       "      <td>SR2</td>\n",
       "    </tr>\n",
       "    <tr>\n",
       "      <th>83541</th>\n",
       "      <td>5626113</td>\n",
       "      <td>1</td>\n",
       "      <td>176</td>\n",
       "      <td>125000</td>\n",
       "      <td>OTHER</td>\n",
       "      <td>AUTO</td>\n",
       "      <td>END_TOUR</td>\n",
       "      <td>EXTERNAL</td>\n",
       "      <td>1437</td>\n",
       "      <td>4270</td>\n",
       "      <td>88.59</td>\n",
       "      <td>0.00</td>\n",
       "      <td>0.00</td>\n",
       "      <td>-1</td>\n",
       "      <td>1800</td>\n",
       "      <td>-1</td>\n",
       "      <td>1</td>\n",
       "      <td>SR2</td>\n",
       "    </tr>\n",
       "  </tbody>\n",
       "</table>\n",
       "<p>83542 rows × 18 columns</p>\n",
       "</div>"
      ],
      "text/plain": [
       "          hhID  memberID  tourID  income  tourPurpose      tourMode  \\\n",
       "0        36990         1       0    7100        OTHER           AIR   \n",
       "1        37200         1       1   18100        OTHER          AUTO   \n",
       "2        38382         1       2    1800        OTHER          AUTO   \n",
       "3        39144         1       3   11400        OTHER          AUTO   \n",
       "4        39330         1       4   17000        OTHER  TRANSIT_WALK   \n",
       "...        ...       ...     ...     ...          ...           ...   \n",
       "83537  5626035         1     172  104000  WORKRELATED          AUTO   \n",
       "83538  5626035         2     173  104000  WORKRELATED          AUTO   \n",
       "83539  5626110         1     174  102200        OTHER          AUTO   \n",
       "83540  5626110         2     175  102200        OTHER          AUTO   \n",
       "83541  5626113         1     176  125000        OTHER          AUTO   \n",
       "\n",
       "         patternType destinationType  home  destination  distance  \\\n",
       "0         BEGIN_TOUR        EXTERNAL  1404         3814    105.02   \n",
       "1      COMPLETE_TOUR        INTERNAL  1334         4196     51.05   \n",
       "2      COMPLETE_TOUR        INTERNAL  1446         1205     65.73   \n",
       "3      COMPLETE_TOUR        INTERNAL  3080          822     53.89   \n",
       "4         BEGIN_TOUR        INTERNAL  2198          615     59.53   \n",
       "...              ...             ...   ...          ...       ...   \n",
       "83537  COMPLETE_TOUR        INTERNAL   689         3137     57.23   \n",
       "83538  COMPLETE_TOUR        INTERNAL   689         3142     58.83   \n",
       "83539     BEGIN_TOUR        INTERNAL  1135          603    155.06   \n",
       "83540     BEGIN_TOUR        INTERNAL  1135          593    159.64   \n",
       "83541       END_TOUR        EXTERNAL  1437         4270     88.59   \n",
       "\n",
       "       outboundTravelTime  inboundTravelTime  departureTime  arrivalTime  \\\n",
       "0                    0.00               0.00            700           -1   \n",
       "1                   68.01              70.74            900         1800   \n",
       "2                   70.06              70.04            800         1200   \n",
       "3                   56.59              56.93           1600         2300   \n",
       "4                  368.89             413.22           1400           -1   \n",
       "...                   ...                ...            ...          ...   \n",
       "83537               65.93              64.08           1600         2000   \n",
       "83538               64.55              62.80           1600         2000   \n",
       "83539              150.07             148.57           1700           -1   \n",
       "83540              153.97             153.69           1700           -1   \n",
       "83541                0.00               0.00             -1         1800   \n",
       "\n",
       "       durationTime  partySize      tripMode  \n",
       "0                -1          1           AIR  \n",
       "1               540          1           SR2  \n",
       "2               240          1          SR3P  \n",
       "3               420          1            DA  \n",
       "4                -1          1  TRANSIT_WALK  \n",
       "...             ...        ...           ...  \n",
       "83537           240          1            DA  \n",
       "83538           240          1            DA  \n",
       "83539            -1          1           SR2  \n",
       "83540            -1          1           SR2  \n",
       "83541            -1          1           SR2  \n",
       "\n",
       "[83542 rows x 18 columns]"
      ]
     },
     "execution_count": 3,
     "metadata": {},
     "output_type": "execute_result"
    }
   ],
   "source": [
    "old_results = pd.read_csv(\"outputs/zzLDTPersonTours.csv\") # tours\n",
    "old_persons = pd.read_csv(\"outputs/zzPersonData.csv\")\n",
    "old_hh = pd.read_csv(\"outputs/zzHouseholdData.csv\")\n",
    "old_results"
   ]
  },
  {
   "cell_type": "code",
   "execution_count": 4,
   "metadata": {},
   "outputs": [],
   "source": [
    "# household tour gen"
   ]
  },
  {
   "cell_type": "code",
   "execution_count": 5,
   "metadata": {},
   "outputs": [
    {
     "data": {
      "text/plain": [
       "<matplotlib.legend.Legend at 0x29696d75b80>"
      ]
     },
     "execution_count": 5,
     "metadata": {},
     "output_type": "execute_result"
    },
    {
     "data": {
      "image/png": "[encoded data removed]",
      "text/plain": [
       "<Figure size 1080x720 with 1 Axes>"
      ]
     },
     "metadata": {
      "needs_background": "light"
     },
     "output_type": "display_data"
    }
   ],
   "source": [
    "fig, ax = plt.subplots(figsize=(15, 10))\n",
    "sns.histplot(old_hh[old_hh.LD_HOUSEHOLD_TOUR == 1].HINC, ax=ax, label=\"java\", stat=\"probability\", binwidth=10000)\n",
    "sns.histplot(asim_hh[asim_hh.ldt_tour_gen_household].INCOME, ax=ax, label=\"asim\", stat=\"probability\", color=\"red\", binwidth=10000)\n",
    "ax.legend()"
   ]
  },
  {
   "cell_type": "code",
   "execution_count": 6,
   "metadata": {},
   "outputs": [
    {
     "data": {
      "text/plain": [
       "<matplotlib.legend.Legend at 0x296953ba040>"
      ]
     },
     "execution_count": 6,
     "metadata": {},
     "output_type": "execute_result"
    },
    {
     "data": {
      "image/png": "[encoded data removed]",
      "text/plain": [
       "<Figure size 1080x720 with 1 Axes>"
      ]
     },
     "metadata": {
      "needs_background": "light"
     },
     "output_type": "display_data"
    }
   ],
   "source": [
    "fig, ax = plt.subplots(figsize=(15, 10))\n",
    "sns.histplot(old_hh[old_hh.LD_HOUSEHOLD_TOUR == 1].PERSONS, ax=ax, label=\"java\", stat=\"probability\", discrete=True)\n",
    "sns.histplot(asim_hh[asim_hh.ldt_tour_gen_household].hhsize, ax=ax, label=\"asim\", stat=\"probability\", color=\"red\", discrete=True)\n",
    "ax.legend()"
   ]
  },
  {
   "cell_type": "code",
   "execution_count": 7,
   "metadata": {},
   "outputs": [
    {
     "data": {
      "text/plain": [
       "<matplotlib.legend.Legend at 0x296954688b0>"
      ]
     },
     "execution_count": 7,
     "metadata": {},
     "output_type": "execute_result"
    },
    {
     "data": {
      "image/png": "[encoded data removed]",
      "text/plain": [
       "<Figure size 1080x720 with 1 Axes>"
      ]
     },
     "metadata": {
      "needs_background": "light"
     },
     "output_type": "display_data"
    }
   ],
   "source": [
    "fig, ax = plt.subplots(figsize=(15, 10))\n",
    "sns.histplot(old_hh[old_hh.LD_HOUSEHOLD_TOUR == 1].SINGLE_FAMILY, ax=ax, label=\"java\", discrete=True, stat=\"probability\")\n",
    "sns.histplot(asim_hh[asim_hh.ldt_tour_gen_household].BLD.isin([2, 3]).astype(int), ax=ax, label=\"asim\", discrete=True, stat=\"probability\", color=\"red\")\n",
    "ax.legend()"
   ]
  },
  {
   "cell_type": "code",
   "execution_count": 8,
   "metadata": {},
   "outputs": [],
   "source": [
    "old_persons[\"working\"] = old_persons[\"WORK_TAZ\"] != 0"
   ]
  },
  {
   "cell_type": "code",
   "execution_count": 9,
   "metadata": {},
   "outputs": [],
   "source": [
    "old_persons[\"working\"] = old_persons[\"ESR\"].isin([1, 2, 4, 5])"
   ]
  },
  {
   "cell_type": "code",
   "execution_count": 10,
   "metadata": {},
   "outputs": [],
   "source": [
    "old_hh[\"workers\"] = old_persons.groupby(\"HH_ID\").working.sum().fillna(0)\n",
    "old_hh[\"workers\"] = old_hh[\"workers\"].fillna(0)"
   ]
  },
  {
   "cell_type": "code",
   "execution_count": 11,
   "metadata": {},
   "outputs": [
    {
     "data": {
      "text/plain": [
       "<matplotlib.legend.Legend at 0x296954eef40>"
      ]
     },
     "execution_count": 11,
     "metadata": {},
     "output_type": "execute_result"
    },
    {
     "data": {
      "image/png": "[encoded data removed]",
      "text/plain": [
       "<Figure size 1080x720 with 1 Axes>"
      ]
     },
     "metadata": {
      "needs_background": "light"
     },
     "output_type": "display_data"
    }
   ],
   "source": [
    "fig, ax = plt.subplots(figsize=(15, 10))\n",
    "sns.histplot(old_hh[old_hh.LD_HOUSEHOLD_TOUR == 1].workers, ax=ax, label=\"java\", stat=\"probability\", discrete=True)\n",
    "sns.histplot(asim_hh[asim_hh.ldt_tour_gen_household].num_workers, ax=ax, label=\"asim\", stat=\"probability\", discrete=True, color=\"red\")\n",
    "ax.legend()"
   ]
  },
  {
   "cell_type": "code",
   "execution_count": 12,
   "metadata": {},
   "outputs": [
    {
     "data": {
      "text/plain": [
       "<matplotlib.legend.Legend at 0x296954706a0>"
      ]
     },
     "execution_count": 12,
     "metadata": {},
     "output_type": "execute_result"
    },
    {
     "data": {
      "image/png": "[encoded data removed]",
      "text/plain": [
       "<Figure size 1080x720 with 1 Axes>"
      ]
     },
     "metadata": {
      "needs_background": "light"
     },
     "output_type": "display_data"
    }
   ],
   "source": [
    "fig, ax = plt.subplots(figsize=(15, 10))\n",
    "sns.histplot(old_hh[old_hh.LD_HOUSEHOLD_TOUR == 1].AUTOS, ax=ax, label=\"java\", stat=\"probability\", discrete=True)\n",
    "sns.histplot(asim_hh[asim_hh.ldt_tour_gen_household].auto_ownership, ax=ax, label=\"asim\", stat=\"probability\", discrete=True, color=\"red\")\n",
    "ax.legend()"
   ]
  },
  {
   "attachments": {},
   "cell_type": "markdown",
   "metadata": {},
   "source": [
    "overall household specifications seem to be about the same aside from number of people"
   ]
  },
  {
   "cell_type": "code",
   "execution_count": 13,
   "metadata": {},
   "outputs": [],
   "source": [
    "# workrelated tour gen"
   ]
  },
  {
   "cell_type": "code",
   "execution_count": 14,
   "metadata": {},
   "outputs": [
    {
     "data": {
      "text/plain": [
       "<matplotlib.legend.Legend at 0x296953e6dc0>"
      ]
     },
     "execution_count": 14,
     "metadata": {},
     "output_type": "execute_result"
    },
    {
     "data": {
      "image/png": "[encoded data removed]",
      "text/plain": [
       "<Figure size 1080x720 with 1 Axes>"
      ]
     },
     "metadata": {
      "needs_background": "light"
     },
     "output_type": "display_data"
    }
   ],
   "source": [
    "fig, ax = plt.subplots(figsize=(15, 10))\n",
    "sns.histplot(old_hh.set_index(\"HH_ID\").loc[old_persons[old_persons.LD_INDICATOR_WORKRELATED == 1].HH_ID].HINC, ax=ax, label=\"java\", stat=\"probability\", binwidth=10000)\n",
    "sns.histplot(asim_hh.set_index(\"household_id\").loc[asim_persons[asim_persons.ldt_tour_gen_person_WORKRELATED].household_id].INCOME, ax=ax, label=\"asim\", stat=\"probability\", color=\"red\", binwidth=10000)\n",
    "ax.legend()"
   ]
  },
  {
   "cell_type": "code",
   "execution_count": 15,
   "metadata": {},
   "outputs": [
    {
     "data": {
      "text/plain": [
       "<matplotlib.legend.Legend at 0x29695449eb0>"
      ]
     },
     "execution_count": 15,
     "metadata": {},
     "output_type": "execute_result"
    },
    {
     "data": {
      "image/png": "[encoded data removed]",
      "text/plain": [
       "<Figure size 1080x720 with 1 Axes>"
      ]
     },
     "metadata": {
      "needs_background": "light"
     },
     "output_type": "display_data"
    }
   ],
   "source": [
    "fig, ax = plt.subplots(figsize=(15, 10))\n",
    "sns.histplot(old_hh.set_index(\"HH_ID\").loc[old_persons[old_persons.LD_INDICATOR_WORKRELATED == 1].HH_ID].AUTOS, ax=ax, label=\"java\", stat=\"probability\", discrete=True)\n",
    "sns.histplot(asim_hh.set_index(\"household_id\").loc[asim_persons[asim_persons.ldt_tour_gen_person_WORKRELATED].household_id].auto_ownership, ax=ax, label=\"asim\", stat=\"probability\", color=\"red\", discrete=True)\n",
    "ax.legend()"
   ]
  },
  {
   "cell_type": "code",
   "execution_count": 16,
   "metadata": {},
   "outputs": [
    {
     "data": {
      "text/plain": [
       "<matplotlib.legend.Legend at 0x296a4ffb730>"
      ]
     },
     "execution_count": 16,
     "metadata": {},
     "output_type": "execute_result"
    },
    {
     "data": {
      "image/png": "[encoded data removed]",
      "text/plain": [
       "<Figure size 1080x720 with 1 Axes>"
      ]
     },
     "metadata": {
      "needs_background": "light"
     },
     "output_type": "display_data"
    }
   ],
   "source": [
    "fig, ax = plt.subplots(figsize=(15, 10))\n",
    "sns.histplot(old_hh.set_index(\"HH_ID\").loc[old_persons[old_persons.LD_INDICATOR_WORKRELATED == 1].HH_ID].workers, ax=ax, label=\"java\", stat=\"probability\", discrete=True)\n",
    "sns.histplot(asim_hh.set_index(\"household_id\").loc[asim_persons[asim_persons.ldt_tour_gen_person_WORKRELATED].household_id].num_workers, ax=ax, label=\"asim\", stat=\"probability\", color=\"red\", discrete=True)\n",
    "ax.legend()\n",
    "# try consistent unemp def (esr vs occup)"
   ]
  },
  {
   "attachments": {},
   "cell_type": "markdown",
   "metadata": {},
   "source": [
    "seems ot be a problem with JAva - many people in households with 0 workers are going on workrelated trips"
   ]
  },
  {
   "cell_type": "code",
   "execution_count": 17,
   "metadata": {},
   "outputs": [
    {
     "data": {
      "text/plain": [
       "<matplotlib.legend.Legend at 0x296a52886d0>"
      ]
     },
     "execution_count": 17,
     "metadata": {},
     "output_type": "execute_result"
    },
    {
     "data": {
      "image/png": "[encoded data removed]",
      "text/plain": [
       "<Figure size 1080x720 with 1 Axes>"
      ]
     },
     "metadata": {
      "needs_background": "light"
     },
     "output_type": "display_data"
    }
   ],
   "source": [
    "fig, ax = plt.subplots(figsize=(15, 10))\n",
    "sns.histplot(old_hh.set_index(\"HH_ID\").loc[old_persons[old_persons.LD_INDICATOR_WORKRELATED == 1].HH_ID].PERSONS, ax=ax, label=\"java\", stat=\"probability\", discrete=True)\n",
    "sns.histplot(asim_hh.set_index(\"household_id\").loc[asim_persons[asim_persons.ldt_tour_gen_person_WORKRELATED].household_id].hhsize, ax=ax, label=\"asim\", stat=\"probability\", color=\"red\", discrete=True)\n",
    "ax.legend()"
   ]
  },
  {
   "cell_type": "code",
   "execution_count": 18,
   "metadata": {},
   "outputs": [
    {
     "data": {
      "text/plain": [
       "<matplotlib.legend.Legend at 0x296a57612b0>"
      ]
     },
     "execution_count": 18,
     "metadata": {},
     "output_type": "execute_result"
    },
    {
     "data": {
      "image/png": "[encoded data removed]",
      "text/plain": [
       "<Figure size 1080x720 with 1 Axes>"
      ]
     },
     "metadata": {
      "needs_background": "light"
     },
     "output_type": "display_data"
    }
   ],
   "source": [
    "fig, ax = plt.subplots(figsize=(15, 10))\n",
    "sns.histplot(old_hh.set_index(\"HH_ID\").loc[old_persons[old_persons.LD_INDICATOR_WORKRELATED == 1].HH_ID].SINGLE_FAMILY, ax=ax, label=\"java\", stat=\"probability\", discrete=True)\n",
    "sns.histplot(asim_hh.set_index(\"household_id\").loc[asim_persons[asim_persons.ldt_tour_gen_person_WORKRELATED].household_id].BLD.isin([2, 3]).astype(int), ax=ax, label=\"asim\", stat=\"probability\", color=\"red\", discrete=True)\n",
    "ax.legend()"
   ]
  },
  {
   "cell_type": "code",
   "execution_count": 19,
   "metadata": {},
   "outputs": [
    {
     "data": {
      "text/plain": [
       "No Occupation     1856946\n",
       "Office             388900\n",
       "Service            235540\n",
       "Assembly           234385\n",
       "Retail             216074\n",
       "Manager            210239\n",
       "Health             206254\n",
       "Transport          190774\n",
       "Professionals      184215\n",
       "Food               166709\n",
       "Construction       146821\n",
       "Primary            121965\n",
       "Non retail         105289\n",
       "Business           103446\n",
       "Maintenance         93359\n",
       "Entertain           39504\n",
       "Post secondary      23217\n",
       "Agriculture         20898\n",
       "Military             3206\n",
       "Name: SW_OCCUP, dtype: int64"
      ]
     },
     "execution_count": 19,
     "metadata": {},
     "output_type": "execute_result"
    }
   ],
   "source": [
    "old_persons[\"SW_OCCUP\"].value_counts()"
   ]
  },
  {
   "cell_type": "code",
   "execution_count": 20,
   "metadata": {},
   "outputs": [],
   "source": [
    "old_persons[\"occup\"] = 0\n",
    "old_persons[\"occup\"] = np.where(old_persons[\"SW_OCCUP\"] == \"Manager\", 1, old_persons[\"occup\"])\n",
    "old_persons[\"occup\"] = np.where(old_persons[\"SW_OCCUP\"] == \"Business\", 2, old_persons[\"occup\"])\n",
    "old_persons[\"occup\"] = np.where(old_persons[\"SW_OCCUP\"] == \"Professionals\", 3, old_persons[\"occup\"])\n",
    "old_persons[\"occup\"] = np.where(old_persons[\"SW_OCCUP\"] == \"Post secondary\", 4, old_persons[\"occup\"])\n",
    "old_persons[\"occup\"] = np.where(old_persons[\"SW_OCCUP\"] == \"Primary\", 5, old_persons[\"occup\"])\n",
    "old_persons[\"occup\"] = np.where(old_persons[\"SW_OCCUP\"] == \"Entertain\", 6, old_persons[\"occup\"])\n",
    "old_persons[\"occup\"] = np.where(old_persons[\"SW_OCCUP\"] == \"Health\", 7, old_persons[\"occup\"])\n",
    "old_persons[\"occup\"] = np.where(old_persons[\"SW_OCCUP\"] == \"Service\", 8, old_persons[\"occup\"])\n",
    "old_persons[\"occup\"] = np.where(old_persons[\"SW_OCCUP\"] == \"Food\", 9, old_persons[\"occup\"])\n",
    "old_persons[\"occup\"] = np.where(old_persons[\"SW_OCCUP\"] == \"Retail\", 10, old_persons[\"occup\"])\n",
    "old_persons[\"occup\"] = np.where(old_persons[\"SW_OCCUP\"] == \"Non retail\", 11, old_persons[\"occup\"])\n",
    "old_persons[\"occup\"] = np.where(old_persons[\"SW_OCCUP\"] == \"Office\", 12, old_persons[\"occup\"])\n",
    "old_persons[\"occup\"] = np.where(old_persons[\"SW_OCCUP\"] == \"Agriculture\", 13, old_persons[\"occup\"])\n",
    "old_persons[\"occup\"] = np.where(old_persons[\"SW_OCCUP\"] == \"Construction\", 14, old_persons[\"occup\"])\n",
    "old_persons[\"occup\"] = np.where(old_persons[\"SW_OCCUP\"] == \"Maintenace\", 15, old_persons[\"occup\"])\n",
    "old_persons[\"occup\"] = np.where(old_persons[\"SW_OCCUP\"] == \"Assembly\", 16, old_persons[\"occup\"])\n",
    "old_persons[\"occup\"] = np.where(old_persons[\"SW_OCCUP\"] == \"Transport\", 17, old_persons[\"occup\"])\n",
    "old_persons[\"occup\"] = np.where(old_persons[\"SW_OCCUP\"] == \"Military\", 18, old_persons[\"occup\"])"
   ]
  },
  {
   "cell_type": "code",
   "execution_count": 21,
   "metadata": {},
   "outputs": [
    {
     "data": {
      "text/plain": [
       "<matplotlib.legend.Legend at 0x296a57a21c0>"
      ]
     },
     "execution_count": 21,
     "metadata": {},
     "output_type": "execute_result"
    },
    {
     "data": {
      "image/png": "[encoded data removed]",
      "text/plain": [
       "<Figure size 1080x720 with 1 Axes>"
      ]
     },
     "metadata": {
      "needs_background": "light"
     },
     "output_type": "display_data"
    }
   ],
   "source": [
    "fig, ax = plt.subplots(figsize=(15, 10))\n",
    "sns.histplot(old_persons[old_persons.LD_INDICATOR_WORKRELATED == 1].occup, ax=ax, label=\"java\", stat=\"probability\", discrete=True)\n",
    "sns.histplot(asim_persons[asim_persons.ldt_tour_gen_person_WORKRELATED].SW_OCCUP, ax=ax, label=\"asim\", stat=\"probability\", color=\"red\", discrete=True)\n",
    "ax.legend()"
   ]
  },
  {
   "cell_type": "code",
   "execution_count": 22,
   "metadata": {},
   "outputs": [
    {
     "data": {
      "text/plain": [
       "<matplotlib.legend.Legend at 0x296a58e5850>"
      ]
     },
     "execution_count": 22,
     "metadata": {},
     "output_type": "execute_result"
    },
    {
     "data": {
      "image/png": "[encoded data removed]",
      "text/plain": [
       "<Figure size 1080x720 with 1 Axes>"
      ]
     },
     "metadata": {
      "needs_background": "light"
     },
     "output_type": "display_data"
    }
   ],
   "source": [
    "fig, ax = plt.subplots(figsize=(15, 10))\n",
    "sns.histplot(old_persons[old_persons.LD_INDICATOR_WORKRELATED == 1].AGE, ax=ax, label=\"java\", stat=\"probability\", binwidth = 5)\n",
    "sns.histplot(asim_persons[asim_persons.ldt_tour_gen_person_WORKRELATED].age, ax=ax, label=\"asim\", stat=\"probability\", color=\"red\", binwidth = 5)\n",
    "ax.legend()"
   ]
  },
  {
   "attachments": {},
   "cell_type": "markdown",
   "metadata": {},
   "source": [
    "age seems almost offset when comparing distributions"
   ]
  },
  {
   "cell_type": "code",
   "execution_count": 23,
   "metadata": {},
   "outputs": [],
   "source": [
    "full_hh = pd.read_csv(\"../data_full/households.csv\").set_index(\"household_id\")"
   ]
  },
  {
   "cell_type": "code",
   "execution_count": 24,
   "metadata": {},
   "outputs": [
    {
     "data": {
      "text/html": [
       "<div>\n",
       "<style scoped>\n",
       "    .dataframe tbody tr th:only-of-type {\n",
       "        vertical-align: middle;\n",
       "    }\n",
       "\n",
       "    .dataframe tbody tr th {\n",
       "        vertical-align: top;\n",
       "    }\n",
       "\n",
       "    .dataframe thead th {\n",
       "        text-align: right;\n",
       "    }\n",
       "</style>\n",
       "<table border=\"1\" class=\"dataframe\">\n",
       "  <thead>\n",
       "    <tr style=\"text-align: right;\">\n",
       "      <th></th>\n",
       "      <th>HH_ID</th>\n",
       "      <th>TAZ</th>\n",
       "      <th>PERSONS</th>\n",
       "      <th>SINGLE_FAMILY</th>\n",
       "      <th>AUTOS</th>\n",
       "      <th>HINC</th>\n",
       "      <th>LD_HOUSEHOLD_TOUR</th>\n",
       "      <th>LD_HOUSEHOLD_PATTERN</th>\n",
       "      <th>workers</th>\n",
       "    </tr>\n",
       "  </thead>\n",
       "  <tbody>\n",
       "    <tr>\n",
       "      <th>0</th>\n",
       "      <td>36771</td>\n",
       "      <td>1093</td>\n",
       "      <td>1</td>\n",
       "      <td>0</td>\n",
       "      <td>0</td>\n",
       "      <td>12700</td>\n",
       "      <td>0</td>\n",
       "      <td>4</td>\n",
       "      <td>0.0</td>\n",
       "    </tr>\n",
       "    <tr>\n",
       "      <th>1</th>\n",
       "      <td>36774</td>\n",
       "      <td>2503</td>\n",
       "      <td>1</td>\n",
       "      <td>0</td>\n",
       "      <td>0</td>\n",
       "      <td>12600</td>\n",
       "      <td>0</td>\n",
       "      <td>4</td>\n",
       "      <td>0.0</td>\n",
       "    </tr>\n",
       "    <tr>\n",
       "      <th>2</th>\n",
       "      <td>36777</td>\n",
       "      <td>3650</td>\n",
       "      <td>1</td>\n",
       "      <td>0</td>\n",
       "      <td>0</td>\n",
       "      <td>7200</td>\n",
       "      <td>0</td>\n",
       "      <td>4</td>\n",
       "      <td>0.0</td>\n",
       "    </tr>\n",
       "    <tr>\n",
       "      <th>3</th>\n",
       "      <td>36780</td>\n",
       "      <td>4714</td>\n",
       "      <td>1</td>\n",
       "      <td>1</td>\n",
       "      <td>0</td>\n",
       "      <td>6000</td>\n",
       "      <td>0</td>\n",
       "      <td>4</td>\n",
       "      <td>0.0</td>\n",
       "    </tr>\n",
       "    <tr>\n",
       "      <th>4</th>\n",
       "      <td>36783</td>\n",
       "      <td>309</td>\n",
       "      <td>1</td>\n",
       "      <td>0</td>\n",
       "      <td>0</td>\n",
       "      <td>7600</td>\n",
       "      <td>0</td>\n",
       "      <td>4</td>\n",
       "      <td>0.0</td>\n",
       "    </tr>\n",
       "    <tr>\n",
       "      <th>...</th>\n",
       "      <td>...</td>\n",
       "      <td>...</td>\n",
       "      <td>...</td>\n",
       "      <td>...</td>\n",
       "      <td>...</td>\n",
       "      <td>...</td>\n",
       "      <td>...</td>\n",
       "      <td>...</td>\n",
       "      <td>...</td>\n",
       "    </tr>\n",
       "    <tr>\n",
       "      <th>1881045</th>\n",
       "      <td>5626131</td>\n",
       "      <td>614</td>\n",
       "      <td>1</td>\n",
       "      <td>1</td>\n",
       "      <td>1</td>\n",
       "      <td>269000</td>\n",
       "      <td>0</td>\n",
       "      <td>4</td>\n",
       "      <td>2.0</td>\n",
       "    </tr>\n",
       "    <tr>\n",
       "      <th>1881046</th>\n",
       "      <td>5626134</td>\n",
       "      <td>4376</td>\n",
       "      <td>2</td>\n",
       "      <td>1</td>\n",
       "      <td>2</td>\n",
       "      <td>179100</td>\n",
       "      <td>0</td>\n",
       "      <td>4</td>\n",
       "      <td>0.0</td>\n",
       "    </tr>\n",
       "    <tr>\n",
       "      <th>1881047</th>\n",
       "      <td>5626137</td>\n",
       "      <td>1380</td>\n",
       "      <td>2</td>\n",
       "      <td>1</td>\n",
       "      <td>2</td>\n",
       "      <td>121200</td>\n",
       "      <td>0</td>\n",
       "      <td>4</td>\n",
       "      <td>0.0</td>\n",
       "    </tr>\n",
       "    <tr>\n",
       "      <th>1881048</th>\n",
       "      <td>5626140</td>\n",
       "      <td>1785</td>\n",
       "      <td>1</td>\n",
       "      <td>1</td>\n",
       "      <td>1</td>\n",
       "      <td>131000</td>\n",
       "      <td>0</td>\n",
       "      <td>4</td>\n",
       "      <td>1.0</td>\n",
       "    </tr>\n",
       "    <tr>\n",
       "      <th>1881049</th>\n",
       "      <td>5626143</td>\n",
       "      <td>2036</td>\n",
       "      <td>2</td>\n",
       "      <td>1</td>\n",
       "      <td>2</td>\n",
       "      <td>254000</td>\n",
       "      <td>0</td>\n",
       "      <td>4</td>\n",
       "      <td>0.0</td>\n",
       "    </tr>\n",
       "  </tbody>\n",
       "</table>\n",
       "<p>1881050 rows × 9 columns</p>\n",
       "</div>"
      ],
      "text/plain": [
       "           HH_ID   TAZ  PERSONS  SINGLE_FAMILY  AUTOS    HINC  \\\n",
       "0          36771  1093        1              0      0   12700   \n",
       "1          36774  2503        1              0      0   12600   \n",
       "2          36777  3650        1              0      0    7200   \n",
       "3          36780  4714        1              1      0    6000   \n",
       "4          36783   309        1              0      0    7600   \n",
       "...          ...   ...      ...            ...    ...     ...   \n",
       "1881045  5626131   614        1              1      1  269000   \n",
       "1881046  5626134  4376        2              1      2  179100   \n",
       "1881047  5626137  1380        2              1      2  121200   \n",
       "1881048  5626140  1785        1              1      1  131000   \n",
       "1881049  5626143  2036        2              1      2  254000   \n",
       "\n",
       "         LD_HOUSEHOLD_TOUR  LD_HOUSEHOLD_PATTERN  workers  \n",
       "0                        0                     4      0.0  \n",
       "1                        0                     4      0.0  \n",
       "2                        0                     4      0.0  \n",
       "3                        0                     4      0.0  \n",
       "4                        0                     4      0.0  \n",
       "...                    ...                   ...      ...  \n",
       "1881045                  0                     4      2.0  \n",
       "1881046                  0                     4      0.0  \n",
       "1881047                  0                     4      0.0  \n",
       "1881048                  0                     4      1.0  \n",
       "1881049                  0                     4      0.0  \n",
       "\n",
       "[1881050 rows x 9 columns]"
      ]
     },
     "execution_count": 24,
     "metadata": {},
     "output_type": "execute_result"
    }
   ],
   "source": [
    "old_hh"
   ]
  },
  {
   "cell_type": "code",
   "execution_count": 25,
   "metadata": {},
   "outputs": [
    {
     "data": {
      "text/plain": [
       "TAZ         1093\n",
       "PERSONS        1\n",
       "BLD            9\n",
       "INCOME     12700\n",
       "Name: 36771, dtype: int64"
      ]
     },
     "execution_count": 25,
     "metadata": {},
     "output_type": "execute_result"
    }
   ],
   "source": [
    "full_hh.loc[36771]"
   ]
  },
  {
   "cell_type": "code",
   "execution_count": 26,
   "metadata": {},
   "outputs": [
    {
     "data": {
      "text/plain": [
       "TAZ         2503\n",
       "PERSONS        1\n",
       "BLD            9\n",
       "INCOME     12600\n",
       "Name: 36774, dtype: int64"
      ]
     },
     "execution_count": 26,
     "metadata": {},
     "output_type": "execute_result"
    }
   ],
   "source": [
    "full_hh.loc[36774]"
   ]
  },
  {
   "cell_type": "code",
   "execution_count": 27,
   "metadata": {},
   "outputs": [
    {
     "data": {
      "text/plain": [
       "Index(['HH_ID', 'memberID', 'home_taz', 'SEX', 'AGE', 'ENROLL', 'ESR',\n",
       "       'SW_SPLIT_IND', 'SW_OCCUP', 'WORK_TAZ', 'LD_INDICATOR_HOUSEHOLD',\n",
       "       'LD_INDICATOR_WORKRELATED', 'LD_INDICATOR_OTHER',\n",
       "       'LD_TOUR_PATTERN_HOUSEHOLD', 'LD_TOUR_PATTERN_WORKRELATED',\n",
       "       'LD_TOUR_PATTERN_OTHER', 'generalPattern', 'completePattern',\n",
       "       'nWeekdayTours', 'nWorkTours', 'nSchoolTours', 'nShopTours',\n",
       "       'nRecreateTours', 'nOtherTours', 'working', 'occup'],\n",
       "      dtype='object')"
      ]
     },
     "execution_count": 27,
     "metadata": {},
     "output_type": "execute_result"
    }
   ],
   "source": [
    "old_persons.columns"
   ]
  },
  {
   "cell_type": "code",
   "execution_count": 28,
   "metadata": {},
   "outputs": [
    {
     "data": {
      "text/plain": [
       "<matplotlib.legend.Legend at 0x296a5224730>"
      ]
     },
     "execution_count": 28,
     "metadata": {},
     "output_type": "execute_result"
    },
    {
     "data": {
      "image/png": "[encoded data removed]",
      "text/plain": [
       "<Figure size 1080x720 with 1 Axes>"
      ]
     },
     "metadata": {
      "needs_background": "light"
     },
     "output_type": "display_data"
    }
   ],
   "source": [
    "fig, ax = plt.subplots(figsize=(15, 10))\n",
    "sns.histplot(old_persons[old_persons.LD_INDICATOR_WORKRELATED == 1].AGE ** 2, ax=ax, label=\"java\", stat=\"probability\", binwidth = 100)\n",
    "sns.histplot(asim_persons[asim_persons.ldt_tour_gen_person_WORKRELATED].age ** 2, ax=ax, label=\"asim\", stat=\"probability\", color=\"red\", binwidth = 100)\n",
    "ax.legend()"
   ]
  },
  {
   "attachments": {},
   "cell_type": "markdown",
   "metadata": {},
   "source": [
    "workrelated parameter distributions seem to vary a lot between asim/java"
   ]
  },
  {
   "cell_type": "code",
   "execution_count": 29,
   "metadata": {},
   "outputs": [],
   "source": [
    "# other trips"
   ]
  },
  {
   "cell_type": "code",
   "execution_count": 30,
   "metadata": {},
   "outputs": [
    {
     "data": {
      "text/plain": [
       "<matplotlib.legend.Legend at 0x296b2e39490>"
      ]
     },
     "execution_count": 30,
     "metadata": {},
     "output_type": "execute_result"
    },
    {
     "data": {
      "image/png": "[encoded data removed]",
      "text/plain": [
       "<Figure size 1080x720 with 1 Axes>"
      ]
     },
     "metadata": {
      "needs_background": "light"
     },
     "output_type": "display_data"
    }
   ],
   "source": [
    "fig, ax = plt.subplots(figsize=(15, 10))\n",
    "sns.histplot(old_hh.set_index(\"HH_ID\").loc[old_persons[old_persons.LD_INDICATOR_OTHER == 1].HH_ID].HINC, ax=ax, label=\"java\", stat=\"probability\", binwidth=10000)\n",
    "sns.histplot(asim_hh.set_index(\"household_id\").loc[asim_persons[asim_persons.ldt_tour_gen_person_OTHER].household_id].INCOME, ax=ax, label=\"asim\", stat=\"probability\", color=\"red\", binwidth=10000)\n",
    "ax.legend()"
   ]
  },
  {
   "cell_type": "code",
   "execution_count": 31,
   "metadata": {},
   "outputs": [
    {
     "data": {
      "text/plain": [
       "<matplotlib.legend.Legend at 0x296b3a29ca0>"
      ]
     },
     "execution_count": 31,
     "metadata": {},
     "output_type": "execute_result"
    },
    {
     "data": {
      "image/png": "[encoded data removed]",
      "text/plain": [
       "<Figure size 1080x720 with 1 Axes>"
      ]
     },
     "metadata": {
      "needs_background": "light"
     },
     "output_type": "display_data"
    }
   ],
   "source": [
    "fig, ax = plt.subplots(figsize=(15, 10))\n",
    "sns.histplot(old_hh.set_index(\"HH_ID\").loc[old_persons[old_persons.LD_INDICATOR_OTHER == 1].HH_ID].AUTOS, ax=ax, label=\"java\", stat=\"probability\", discrete=True)\n",
    "sns.histplot(asim_hh.set_index(\"household_id\").loc[asim_persons[asim_persons.ldt_tour_gen_person_OTHER].household_id].auto_ownership, ax=ax, label=\"asim\", stat=\"probability\", color=\"red\", discrete=True)\n",
    "ax.legend()"
   ]
  },
  {
   "cell_type": "code",
   "execution_count": 32,
   "metadata": {},
   "outputs": [
    {
     "data": {
      "text/plain": [
       "<matplotlib.legend.Legend at 0x296b3a29070>"
      ]
     },
     "execution_count": 32,
     "metadata": {},
     "output_type": "execute_result"
    },
    {
     "data": {
      "image/png": "[encoded data removed]",
      "text/plain": [
       "<Figure size 1080x720 with 1 Axes>"
      ]
     },
     "metadata": {
      "needs_background": "light"
     },
     "output_type": "display_data"
    }
   ],
   "source": [
    "fig, ax = plt.subplots(figsize=(15, 10))\n",
    "sns.histplot(old_hh.set_index(\"HH_ID\").loc[old_persons[old_persons.LD_INDICATOR_OTHER == 1].HH_ID].workers, ax=ax, label=\"java\", stat=\"probability\", discrete=True)\n",
    "sns.histplot(asim_hh.set_index(\"household_id\").loc[asim_persons[asim_persons.ldt_tour_gen_person_OTHER].household_id].num_workers, ax=ax, label=\"asim\", stat=\"probability\", color=\"red\", discrete=True)\n",
    "ax.legend()\n",
    "# try consistent unemp def (esr vs occup)"
   ]
  },
  {
   "cell_type": "code",
   "execution_count": 33,
   "metadata": {},
   "outputs": [
    {
     "data": {
      "text/plain": [
       "<matplotlib.legend.Legend at 0x296b3d2a460>"
      ]
     },
     "execution_count": 33,
     "metadata": {},
     "output_type": "execute_result"
    },
    {
     "data": {
      "image/png": "[encoded data removed]",
      "text/plain": [
       "<Figure size 1080x720 with 1 Axes>"
      ]
     },
     "metadata": {
      "needs_background": "light"
     },
     "output_type": "display_data"
    }
   ],
   "source": [
    "fig, ax = plt.subplots(figsize=(15, 10))\n",
    "sns.histplot(old_hh.set_index(\"HH_ID\").loc[old_persons[old_persons.LD_INDICATOR_OTHER == 1].HH_ID].SINGLE_FAMILY, ax=ax, label=\"java\", stat=\"probability\", discrete=True)\n",
    "sns.histplot(asim_hh.set_index(\"household_id\").loc[asim_persons[asim_persons.ldt_tour_gen_person_OTHER].household_id].BLD.isin([2, 3]).astype(int), ax=ax, label=\"asim\", stat=\"probability\", color=\"red\", discrete=True)\n",
    "ax.legend()"
   ]
  },
  {
   "cell_type": "code",
   "execution_count": 34,
   "metadata": {},
   "outputs": [
    {
     "data": {
      "text/plain": [
       "<matplotlib.legend.Legend at 0x296b3faf820>"
      ]
     },
     "execution_count": 34,
     "metadata": {},
     "output_type": "execute_result"
    },
    {
     "data": {
      "image/png": "[encoded data removed]",
      "text/plain": [
       "<Figure size 1080x720 with 1 Axes>"
      ]
     },
     "metadata": {
      "needs_background": "light"
     },
     "output_type": "display_data"
    }
   ],
   "source": [
    "fig, ax = plt.subplots(figsize=(15, 10))\n",
    "sns.histplot(old_persons[old_persons.LD_INDICATOR_OTHER == 1].occup, ax=ax, label=\"java\", stat=\"probability\", discrete=True)\n",
    "sns.histplot(asim_persons[asim_persons.ldt_tour_gen_person_OTHER].SW_OCCUP, ax=ax, label=\"asim\", stat=\"probability\", color=\"red\", discrete=True)\n",
    "ax.legend()"
   ]
  },
  {
   "cell_type": "code",
   "execution_count": 35,
   "metadata": {},
   "outputs": [
    {
     "data": {
      "text/plain": [
       "<matplotlib.legend.Legend at 0x296b74d6d60>"
      ]
     },
     "execution_count": 35,
     "metadata": {},
     "output_type": "execute_result"
    },
    {
     "data": {
      "image/png": "[encoded data removed]",
      "text/plain": [
       "<Figure size 1080x720 with 1 Axes>"
      ]
     },
     "metadata": {
      "needs_background": "light"
     },
     "output_type": "display_data"
    }
   ],
   "source": [
    "fig, ax = plt.subplots(figsize=(15, 10))\n",
    "sns.histplot(old_persons[old_persons.LD_INDICATOR_OTHER == 1].AGE, ax=ax, label=\"java\", stat=\"probability\", binwidth = 5)\n",
    "sns.histplot(asim_persons[asim_persons.ldt_tour_gen_person_OTHER].age, ax=ax, label=\"asim\", stat=\"probability\", color=\"red\", binwidth = 5)\n",
    "ax.legend()"
   ]
  },
  {
   "cell_type": "code",
   "execution_count": 38,
   "metadata": {},
   "outputs": [
    {
     "data": {
      "text/plain": [
       "<matplotlib.legend.Legend at 0x296b79580d0>"
      ]
     },
     "execution_count": 38,
     "metadata": {},
     "output_type": "execute_result"
    },
    {
     "data": {
      "image/png": "[encoded data removed]",
      "text/plain": [
       "<Figure size 1080x720 with 1 Axes>"
      ]
     },
     "metadata": {
      "needs_background": "light"
     },
     "output_type": "display_data"
    }
   ],
   "source": [
    "fig, ax = plt.subplots(figsize=(15, 10))\n",
    "sns.histplot(old_persons[old_persons.LD_INDICATOR_OTHER == 1].AGE ** 2, ax=ax, label=\"java\", stat=\"probability\", binwidth = 100)\n",
    "sns.histplot(asim_persons[asim_persons.ldt_tour_gen_person_OTHER].age ** 2, ax=ax, label=\"asim\", stat=\"probability\", color=\"red\", binwidth = 100)\n",
    "ax.legend()"
   ]
  },
  {
   "attachments": {},
   "cell_type": "markdown",
   "metadata": {},
   "source": [
    "other trips seem to reflect other patterns--roughly the same in some but age is very offset and number of workers has a strong peak in java while asim doesn't"
   ]
  },
  {
   "cell_type": "code",
   "execution_count": 36,
   "metadata": {},
   "outputs": [
    {
     "data": {
      "text/plain": [
       "<AxesSubplot:xlabel='age', ylabel='Probability'>"
      ]
     },
     "execution_count": 36,
     "metadata": {},
     "output_type": "execute_result"
    },
    {
     "data": {
      "image/png": "[encoded data removed]",
      "text/plain": [
       "<Figure size 1080x720 with 1 Axes>"
      ]
     },
     "metadata": {
      "needs_background": "light"
     },
     "output_type": "display_data"
    }
   ],
   "source": [
    "fig, ax = plt.subplots(figsize=(15, 10))\n",
    "sns.histplot(asim_persons.age, ax=ax, label=\"total\", stat=\"probability\", color=\"green\", binwidth=5)\n",
    "sns.histplot(old_persons.AGE, ax=ax, label=\"total_java\", stat=\"probability\", binwidth=5, color=\"orange\")"
   ]
  },
  {
   "attachments": {},
   "cell_type": "markdown",
   "metadata": {},
   "source": [
    "age distributions between the two are the same--doesn't explain the age offset observed"
   ]
  },
  {
   "cell_type": "code",
   "execution_count": null,
   "metadata": {},
   "outputs": [],
   "source": []
  }
 ],
 "metadata": {
  "kernelspec": {
   "display_name": "Python 3.9.13",
   "language": "python",
   "name": "python3"
  },
  "language_info": {
   "codemirror_mode": {
    "name": "ipython",
    "version": 3
   },
   "file_extension": ".py",
   "mimetype": "text/x-python",
   "name": "python",
   "nbconvert_exporter": "python",
   "pygments_lexer": "ipython3",
   "version": "3.9.13"
  },
  "orig_nbformat": 4,
  "vscode": {
   "interpreter": {
    "hash": "4d56a7a116638db1a352fe2251efcfa1e32004496851398a67336876752e213c"
   }
  }
 },
 "nbformat": 4,
 "nbformat_minor": 2
}
