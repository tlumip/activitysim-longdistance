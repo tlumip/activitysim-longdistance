{
 "cells": [
  {
   "cell_type": "code",
   "execution_count": 137,
   "metadata": {},
   "outputs": [],
   "source": [
    "import numpy as np\n",
    "import pandas as pd"
   ]
  },
  {
   "cell_type": "code",
   "execution_count": 138,
   "metadata": {},
   "outputs": [],
   "source": [
    "df = pd.read_csv(\"../data_full/persons.csv\")"
   ]
  },
  {
   "cell_type": "code",
   "execution_count": 139,
   "metadata": {},
   "outputs": [
    {
     "data": {
      "text/plain": [
       "Index(['household_id', 'person_id', 'SEX', 'AGE', 'SCH', 'ESR', 'NAICSP02',\n",
       "       'SOCP10', 'SW_UNSPLIT_IND', 'SW_OCCUP', 'SW_SPLIT_IND'],\n",
       "      dtype='object')"
      ]
     },
     "execution_count": 139,
     "metadata": {},
     "output_type": "execute_result"
    }
   ],
   "source": [
    "df.columns"
   ]
  },
  {
   "cell_type": "code",
   "execution_count": 140,
   "metadata": {},
   "outputs": [
    {
     "data": {
      "text/plain": [
       "1    6150745\n",
       "6    3821596\n",
       "0    2940113\n",
       "3     538785\n",
       "2     181667\n",
       "4      12918\n",
       "5        178\n",
       "Name: ESR, dtype: int64"
      ]
     },
     "execution_count": 140,
     "metadata": {},
     "output_type": "execute_result"
    }
   ],
   "source": [
    "# 0 is under 16, 1/2 is employed, 3 is unemployed, 4/5 is in army, 6 is in not in labor force\n",
    "df[\"ESR\"].value_counts()"
   ]
  },
  {
   "cell_type": "code",
   "execution_count": 141,
   "metadata": {},
   "outputs": [
    {
     "data": {
      "text/plain": [
       "7300494"
      ]
     },
     "execution_count": 141,
     "metadata": {},
     "output_type": "execute_result"
    }
   ],
   "source": [
    "# supposedly total amount of unemployed people/people without industry\n",
    "2940113 + 3821596 + 538785"
   ]
  },
  {
   "cell_type": "markdown",
   "metadata": {},
   "source": [
    "phase I se data update plan numbering (unsplit) <br>\n",
    "unemployed - 6293425 <br>\n",
    "other services - 1672653<br>\n",
    "retail production - 1125736<br>\n",
    "healthcare - 948314<br>\n",
    "construction - 455444 <br>\n",
    "gradeschool education - 403232<br>\n",
    "government - 382401 (need to subtract unemployed people from the reported 23 value count) <br> \n",
    "heavy industry production - 344326 <br>\n",
    "retail office - 343196 <br>\n",
    "transportation handling - 287045<br>\n",
    "heavy industry office - 228161 <br>\n",
    "post-secondary education - 211044<br>\n",
    "light industry production - 179347 <br>\n",
    "transportation equipment production - 150521 <br>\n",
    "wholesale office - 135789 <br>\n",
    "light industry office - 95329 <br>\n",
    "transportation equipment office - 73152 <br>\n",
    "hotel/accomodation - 61490<br>\n",
    "wholesale production - 60881 <br>\n",
    "agriculture production - 58637 <br>\n",
    "utilities - 53368<br>\n",
    "metal production - 52847 <br>\n",
    "metal office - 17467 <br>\n",
    "agriculture office - 12177 <br>\n",
    "\n",
    "<br>\n",
    "0 is unemployed<br>\n",
    "1 is agriculture production<br>\n",
    "2 is agriculture office <br>\n",
    "3 is metal production <br>\n",
    "4 is metal office <br>\n",
    "5 is light industry production<br>\n",
    "6 is light industry office <br>\n",
    "7 is heavy industry production<br>\n",
    "8 is heavy industry office <br>\n",
    "9 is transportation equipment production <br>\n",
    "10 is transportation equipment office <br>\n",
    "11 is wholesale production<br>\n",
    "12 is wholesale office <br>\n",
    "13 is retail production<br>\n",
    "14 is retail office <br>\n",
    "15 is hotel/accomodation<br>\n",
    "16 is construction<br>\n",
    "17 is healthcare<br>\n",
    "18 is transportation handling<br>\n",
    "19 is utilities<br>\n",
    "20 is other services <br>\n",
    "21 is gradeschool education<br>\n",
    "22 is post-secondary education<br>\n",
    "23 is government/other (added with unemployed for some reason) <br>\n",
    "<br>\n",
    "sums of split industries are consistent with unsplit; non-split industries are also consistent"
   ]
  },
  {
   "cell_type": "code",
   "execution_count": 142,
   "metadata": {},
   "outputs": [
    {
     "data": {
      "text/plain": [
       "23    6675826\n",
       "20    1672653\n",
       "13    1125736\n",
       "17     948314\n",
       "16     455444\n",
       "21     403232\n",
       "7      344326\n",
       "14     343196\n",
       "18     287045\n",
       "8      228161\n",
       "22     211044\n",
       "5      179347\n",
       "9      150521\n",
       "12     135789\n",
       "6       95329\n",
       "10      73152\n",
       "15      61490\n",
       "11      60881\n",
       "1       58637\n",
       "19      53368\n",
       "3       52847\n",
       "4       17487\n",
       "2       12177\n",
       "Name: SW_SPLIT_IND, dtype: int64"
      ]
     },
     "execution_count": 142,
     "metadata": {},
     "output_type": "execute_result"
    }
   ],
   "source": [
    "# need to fix sw_split_ind specification for category 23 - make actual categvory 23 and unemployed\n",
    "df[\"SW_SPLIT_IND\"].value_counts()"
   ]
  },
  {
   "cell_type": "code",
   "execution_count": 143,
   "metadata": {},
   "outputs": [],
   "source": [
    "# fixing government category\n",
    "df[\"SW_SPLIT_IND\"] = np.where(df[\"SW_UNSPLIT_IND\"] == 0, 0, df[\"SW_SPLIT_IND\"])"
   ]
  },
  {
   "cell_type": "markdown",
   "metadata": {},
   "source": [
    "phase I se data update plan numbering <br>\n",
    "unemployed - 6293425 <br>\n",
    "other services - 1672653<br>\n",
    "retail - 1468932<br>\n",
    "healthcare - 948314<br>\n",
    "heavy industry - 572487<br>\n",
    "construction - 455444<br>\n",
    "gradeschool education - 403232<br>\n",
    "government/other - 382401<br>\n",
    "transportation handling - 287045<br>\n",
    "light industry - 274676<br>\n",
    "transportation equipment - 223673<br>\n",
    "post-secondary education - 211044<br>\n",
    "wholesale - 196670<br>\n",
    "agriculture - 70814<br>\n",
    "metal - 70334<br>\n",
    "hotel/accomodation - 61490<br>\n",
    "utilities - 53368<br>\n",
    "<br>\n",
    "0 is unemployed<br>\n",
    "1 is agriculture<br>\n",
    "2 is metal<br>\n",
    "3 is light industry<br>\n",
    "4 is heavy industry<br>\n",
    "5 is transportation equipment<br>\n",
    "6 is wholesale<br>\n",
    "7 is retail<br>\n",
    "8 is hotel/accomodation<br>\n",
    "9 is construction<br>\n",
    "10 is healthcare<br>\n",
    "11 is transportation handling<br>\n",
    "12 is utilities<br>\n",
    "13 is other services <br>\n",
    "14 is gradeschool education<br>\n",
    "15 is post-secondary education<br>\n",
    "16 is government/other"
   ]
  },
  {
   "cell_type": "markdown",
   "metadata": {},
   "source": [
    "land use csv numbering <br>\n",
    "heavy industry - 1672653 <br>\n",
    "high school educatiton - 1468932 <br>\n",
    "agriculture - 948314 <br>\n",
    "healthcare - 572487 <br>\n",
    "hotel accomodation - 455444 <br>\n",
    "transportation equipment - 403232 <br>\n",
    "retail - 382401 <br>\n",
    "metal - 287045 <br>\n",
    "transportation handling - 274676 <br>\n",
    "other services - 223673 <br>\n",
    "wholesale - 211044 <br>\n",
    "governemnt services - 196670 <br>\n",
    "utilities - 70814 <br>\n",
    "construction - 70334 <br>\n",
    "college education - 61490 <br>\n",
    "light industry - 53368 <br>\n",
    "<br>\n",
    "0 is unemployed <br>\n",
    "1 is utilities <br>\n",
    "2 is construction <br>\n",
    "3 is transportation handling <br>\n",
    "4 is healthcare <br>\n",
    "5 is other services <br>\n",
    "6 is government services <br>\n",
    "7 is high school education <br>\n",
    "8 is college education <br>\n",
    "9 is hotel accomodation <br>\n",
    "10 is agriculture <br>\n",
    "11 is metal <br>\n",
    "12 is light industry <br>\n",
    "13 is heavy industry <br>\n",
    "14 is transportation equipment <br>\n",
    "15 is wholesale <br>\n",
    "16 is retail <br>"
   ]
  },
  {
   "cell_type": "code",
   "execution_count": 144,
   "metadata": {},
   "outputs": [
    {
     "data": {
      "text/html": [
       "<div>\n",
       "<style scoped>\n",
       "    .dataframe tbody tr th:only-of-type {\n",
       "        vertical-align: middle;\n",
       "    }\n",
       "\n",
       "    .dataframe tbody tr th {\n",
       "        vertical-align: top;\n",
       "    }\n",
       "\n",
       "    .dataframe thead th {\n",
       "        text-align: right;\n",
       "    }\n",
       "</style>\n",
       "<table border=\"1\" class=\"dataframe\">\n",
       "  <thead>\n",
       "    <tr style=\"text-align: right;\">\n",
       "      <th></th>\n",
       "      <th>index</th>\n",
       "      <th>SW_UNSPLIT_IND</th>\n",
       "    </tr>\n",
       "  </thead>\n",
       "  <tbody>\n",
       "    <tr>\n",
       "      <th>0</th>\n",
       "      <td>0</td>\n",
       "      <td>6293425</td>\n",
       "    </tr>\n",
       "    <tr>\n",
       "      <th>1</th>\n",
       "      <td>13</td>\n",
       "      <td>1672653</td>\n",
       "    </tr>\n",
       "    <tr>\n",
       "      <th>2</th>\n",
       "      <td>7</td>\n",
       "      <td>1468932</td>\n",
       "    </tr>\n",
       "    <tr>\n",
       "      <th>3</th>\n",
       "      <td>10</td>\n",
       "      <td>948314</td>\n",
       "    </tr>\n",
       "    <tr>\n",
       "      <th>4</th>\n",
       "      <td>4</td>\n",
       "      <td>572487</td>\n",
       "    </tr>\n",
       "    <tr>\n",
       "      <th>5</th>\n",
       "      <td>9</td>\n",
       "      <td>455444</td>\n",
       "    </tr>\n",
       "    <tr>\n",
       "      <th>6</th>\n",
       "      <td>14</td>\n",
       "      <td>403232</td>\n",
       "    </tr>\n",
       "    <tr>\n",
       "      <th>7</th>\n",
       "      <td>16</td>\n",
       "      <td>382401</td>\n",
       "    </tr>\n",
       "    <tr>\n",
       "      <th>8</th>\n",
       "      <td>11</td>\n",
       "      <td>287045</td>\n",
       "    </tr>\n",
       "    <tr>\n",
       "      <th>9</th>\n",
       "      <td>3</td>\n",
       "      <td>274676</td>\n",
       "    </tr>\n",
       "    <tr>\n",
       "      <th>10</th>\n",
       "      <td>5</td>\n",
       "      <td>223673</td>\n",
       "    </tr>\n",
       "    <tr>\n",
       "      <th>11</th>\n",
       "      <td>15</td>\n",
       "      <td>211044</td>\n",
       "    </tr>\n",
       "    <tr>\n",
       "      <th>12</th>\n",
       "      <td>6</td>\n",
       "      <td>196670</td>\n",
       "    </tr>\n",
       "    <tr>\n",
       "      <th>13</th>\n",
       "      <td>1</td>\n",
       "      <td>70814</td>\n",
       "    </tr>\n",
       "    <tr>\n",
       "      <th>14</th>\n",
       "      <td>2</td>\n",
       "      <td>70334</td>\n",
       "    </tr>\n",
       "    <tr>\n",
       "      <th>15</th>\n",
       "      <td>8</td>\n",
       "      <td>61490</td>\n",
       "    </tr>\n",
       "    <tr>\n",
       "      <th>16</th>\n",
       "      <td>12</td>\n",
       "      <td>53368</td>\n",
       "    </tr>\n",
       "  </tbody>\n",
       "</table>\n",
       "</div>"
      ],
      "text/plain": [
       "    index  SW_UNSPLIT_IND\n",
       "0       0         6293425\n",
       "1      13         1672653\n",
       "2       7         1468932\n",
       "3      10          948314\n",
       "4       4          572487\n",
       "5       9          455444\n",
       "6      14          403232\n",
       "7      16          382401\n",
       "8      11          287045\n",
       "9       3          274676\n",
       "10      5          223673\n",
       "11     15          211044\n",
       "12      6          196670\n",
       "13      1           70814\n",
       "14      2           70334\n",
       "15      8           61490\n",
       "16     12           53368"
      ]
     },
     "execution_count": 144,
     "metadata": {},
     "output_type": "execute_result"
    }
   ],
   "source": [
    "df[\"SW_UNSPLIT_IND\"].value_counts().reset_index()"
   ]
  },
  {
   "cell_type": "code",
   "execution_count": 145,
   "metadata": {},
   "outputs": [
    {
     "data": {
      "text/plain": [
       "0     6293425\n",
       "13    1672653\n",
       "7     1468932\n",
       "10     948314\n",
       "4      572487\n",
       "9      455444\n",
       "14     403232\n",
       "16     382401\n",
       "11     287045\n",
       "3      274676\n",
       "5      223673\n",
       "15     211044\n",
       "6      196670\n",
       "1       70814\n",
       "2       70334\n",
       "8       61490\n",
       "12      53368\n",
       "Name: NAICSP02, dtype: int64"
      ]
     },
     "execution_count": 145,
     "metadata": {},
     "output_type": "execute_result"
    }
   ],
   "source": [
    "# equivalent to SW_UNSPLIT_IND\n",
    "df[\"NAICSP02\"].value_counts()"
   ]
  },
  {
   "cell_type": "markdown",
   "metadata": {},
   "source": [
    "1 = 'Managers' <br>\n",
    "2 = 'Business and financial operation workers'<br>\n",
    "3 = 'Professionals'<br>\n",
    "4 = 'Post-secondary education workers'<br>\n",
    "5 = 'Primary education workers'<br>\n",
    "6 = 'Entertainers and media workers'<br>\n",
    "7 = 'Health workers'<br>\n",
    "8 = 'Service workers'<br>\n",
    "9 = 'Food workers'<br>\n",
    "10 = 'Retail workers'<br>\n",
    "11 = 'Non-retail sales workers'<br>\n",
    "12 = 'Office and administration workers'<br>\n",
    "13 = 'Agriculture workers'<br>\n",
    "14 = 'Construction workers'<br>\n",
    "15 = 'Maintenance and repair workers'<br>\n",
    "16 = 'Assembly and Fabrication workers'<br>\n",
    "17 = 'Transport workers'<br>\n",
    "18 = 'Military workers'\n"
   ]
  },
  {
   "cell_type": "code",
   "execution_count": 146,
   "metadata": {},
   "outputs": [
    {
     "data": {
      "text/plain": [
       "0     5575277\n",
       "12    1165663\n",
       "8      706958\n",
       "16     702401\n",
       "10     649053\n",
       "1      629359\n",
       "7      619633\n",
       "17     570905\n",
       "3      553683\n",
       "9      501133\n",
       "14     440752\n",
       "5      364034\n",
       "11     316821\n",
       "2      310077\n",
       "15     279856\n",
       "6      118430\n",
       "4       69702\n",
       "13      62609\n",
       "18       9656\n",
       "Name: SW_OCCUP, dtype: int64"
      ]
     },
     "execution_count": 146,
     "metadata": {},
     "output_type": "execute_result"
    }
   ],
   "source": [
    "df[\"SW_OCCUP\"].value_counts()"
   ]
  },
  {
   "cell_type": "code",
   "execution_count": 147,
   "metadata": {},
   "outputs": [
    {
     "data": {
      "text/plain": [
       "0     5575277\n",
       "12    1165663\n",
       "8      706958\n",
       "16     702401\n",
       "10     649053\n",
       "1      629359\n",
       "7      619633\n",
       "17     570905\n",
       "3      553683\n",
       "9      501133\n",
       "14     440752\n",
       "5      364034\n",
       "11     316821\n",
       "2      310077\n",
       "15     279856\n",
       "6      118430\n",
       "4       69702\n",
       "13      62609\n",
       "18       9656\n",
       "Name: SOCP10, dtype: int64"
      ]
     },
     "execution_count": 147,
     "metadata": {},
     "output_type": "execute_result"
    }
   ],
   "source": [
    "# equivalent to SW_OCCUP\n",
    "df[\"SOCP10\"].value_counts()"
   ]
  },
  {
   "cell_type": "code",
   "execution_count": 148,
   "metadata": {},
   "outputs": [],
   "source": [
    "df = pd.read_csv(\"../data_full/persons_fixed.csv\")"
   ]
  },
  {
   "cell_type": "code",
   "execution_count": 149,
   "metadata": {},
   "outputs": [],
   "source": [
    "occup_translation = {\n",
    "    0: \"Unemployed\",\n",
    "    1: \"Manager\",\n",
    "    2: \"business/finance\",\n",
    "    3: \"professionals\",\n",
    "    4: \"post-secondary education\",\n",
    "    5: \"primary education\",\n",
    "    6: \"entertainers/media workers\",\n",
    "    7: \"health workers\",\n",
    "    8: \"service workers\",\n",
    "    9: \"food workers\",\n",
    "    10: \"retail workers\",\n",
    "    11: \"non-retail sales workers (wholesale)\",\n",
    "    12: \"office/administration\",\n",
    "    13: \"agriculture\",\n",
    "    14: \"construction\",\n",
    "    15: \"maintenance and repair\",\n",
    "    16: \"assemblly/fabrication\",\n",
    "    17: \"transport workers\",\n",
    "    18: \"military workers\"\n",
    "}"
   ]
  },
  {
   "cell_type": "code",
   "execution_count": 150,
   "metadata": {},
   "outputs": [],
   "source": [
    "unsplit_ind_translation = {\n",
    "    0:\"unemployed\",\n",
    "    1:\"agriculture production\",\n",
    "    2:\"agriculture office \",\n",
    "    3:\"metal production \",\n",
    "    4:\"metal office \",\n",
    "    5:\"light industry production\",\n",
    "    6:\"light industry office \",\n",
    "    7:\"heavy industry production\",\n",
    "    8:\"heavy industry office \",\n",
    "    9:\"transportation equipment production \",\n",
    "    10:\"transportation equipment office \",\n",
    "    11:\"wholesale production\",\n",
    "    12:\"wholesale office \",\n",
    "    13:\"retail production\",\n",
    "    14:\"retail office \",\n",
    "    15:\"hotel/accomodation\",\n",
    "    16:\"construction\",\n",
    "    17:\"healthcare\",\n",
    "    18:\"transportation handling\",\n",
    "    19:\"utilities\",\n",
    "    20:\"other services \",\n",
    "    21:\"gradeschool education\",\n",
    "    22:\"post-secondary education\",\n",
    "    23:\"government/other\",\n",
    "}"
   ]
  },
  {
   "cell_type": "code",
   "execution_count": 151,
   "metadata": {},
   "outputs": [],
   "source": [
    "df[\"INDUSTRY_CATEGORIES\"] = df[\"SW_SPLIT_IND\"].map(unsplit_ind_translation)\n",
    "df[\"OCCUP_CATEGORIES\"] = df[\"SW_OCCUP\"].map(occup_translation)"
   ]
  },
  {
   "cell_type": "code",
   "execution_count": 152,
   "metadata": {},
   "outputs": [
    {
     "data": {
      "text/plain": [
       "1    6150745\n",
       "6    3821596\n",
       "0    2940113\n",
       "3     538785\n",
       "2     181667\n",
       "4      12918\n",
       "5        178\n",
       "Name: ESR, dtype: int64"
      ]
     },
     "execution_count": 152,
     "metadata": {},
     "output_type": "execute_result"
    }
   ],
   "source": [
    "df[\"ESR\"].value_counts()"
   ]
  },
  {
   "cell_type": "code",
   "execution_count": 153,
   "metadata": {},
   "outputs": [
    {
     "data": {
      "text/html": [
       "<div>\n",
       "<style scoped>\n",
       "    .dataframe tbody tr th:only-of-type {\n",
       "        vertical-align: middle;\n",
       "    }\n",
       "\n",
       "    .dataframe tbody tr th {\n",
       "        vertical-align: top;\n",
       "    }\n",
       "\n",
       "    .dataframe thead tr th {\n",
       "        text-align: left;\n",
       "    }\n",
       "\n",
       "    .dataframe thead tr:last-of-type th {\n",
       "        text-align: right;\n",
       "    }\n",
       "</style>\n",
       "<table border=\"1\" class=\"dataframe\">\n",
       "  <thead>\n",
       "    <tr>\n",
       "      <th></th>\n",
       "      <th colspan=\"2\" halign=\"left\">SW_SPLIT_IND</th>\n",
       "    </tr>\n",
       "    <tr>\n",
       "      <th></th>\n",
       "      <th>count</th>\n",
       "      <th>first</th>\n",
       "    </tr>\n",
       "    <tr>\n",
       "      <th>INDUSTRY_CATEGORIES</th>\n",
       "      <th></th>\n",
       "      <th></th>\n",
       "    </tr>\n",
       "  </thead>\n",
       "  <tbody>\n",
       "    <tr>\n",
       "      <th>unemployed</th>\n",
       "      <td>6293425</td>\n",
       "      <td>0</td>\n",
       "    </tr>\n",
       "    <tr>\n",
       "      <th>other services</th>\n",
       "      <td>1672653</td>\n",
       "      <td>20</td>\n",
       "    </tr>\n",
       "    <tr>\n",
       "      <th>retail production</th>\n",
       "      <td>1125736</td>\n",
       "      <td>13</td>\n",
       "    </tr>\n",
       "    <tr>\n",
       "      <th>healthcare</th>\n",
       "      <td>948314</td>\n",
       "      <td>17</td>\n",
       "    </tr>\n",
       "    <tr>\n",
       "      <th>construction</th>\n",
       "      <td>455444</td>\n",
       "      <td>16</td>\n",
       "    </tr>\n",
       "    <tr>\n",
       "      <th>gradeschool education</th>\n",
       "      <td>403232</td>\n",
       "      <td>21</td>\n",
       "    </tr>\n",
       "    <tr>\n",
       "      <th>government/other</th>\n",
       "      <td>382401</td>\n",
       "      <td>23</td>\n",
       "    </tr>\n",
       "    <tr>\n",
       "      <th>heavy industry production</th>\n",
       "      <td>344326</td>\n",
       "      <td>7</td>\n",
       "    </tr>\n",
       "    <tr>\n",
       "      <th>retail office</th>\n",
       "      <td>343196</td>\n",
       "      <td>14</td>\n",
       "    </tr>\n",
       "    <tr>\n",
       "      <th>transportation handling</th>\n",
       "      <td>287045</td>\n",
       "      <td>18</td>\n",
       "    </tr>\n",
       "    <tr>\n",
       "      <th>heavy industry office</th>\n",
       "      <td>228161</td>\n",
       "      <td>8</td>\n",
       "    </tr>\n",
       "    <tr>\n",
       "      <th>post-secondary education</th>\n",
       "      <td>211044</td>\n",
       "      <td>22</td>\n",
       "    </tr>\n",
       "    <tr>\n",
       "      <th>light industry production</th>\n",
       "      <td>179347</td>\n",
       "      <td>5</td>\n",
       "    </tr>\n",
       "    <tr>\n",
       "      <th>transportation equipment production</th>\n",
       "      <td>150521</td>\n",
       "      <td>9</td>\n",
       "    </tr>\n",
       "    <tr>\n",
       "      <th>wholesale office</th>\n",
       "      <td>135789</td>\n",
       "      <td>12</td>\n",
       "    </tr>\n",
       "    <tr>\n",
       "      <th>light industry office</th>\n",
       "      <td>95329</td>\n",
       "      <td>6</td>\n",
       "    </tr>\n",
       "    <tr>\n",
       "      <th>transportation equipment office</th>\n",
       "      <td>73152</td>\n",
       "      <td>10</td>\n",
       "    </tr>\n",
       "    <tr>\n",
       "      <th>hotel/accomodation</th>\n",
       "      <td>61490</td>\n",
       "      <td>15</td>\n",
       "    </tr>\n",
       "    <tr>\n",
       "      <th>wholesale production</th>\n",
       "      <td>60881</td>\n",
       "      <td>11</td>\n",
       "    </tr>\n",
       "    <tr>\n",
       "      <th>agriculture production</th>\n",
       "      <td>58637</td>\n",
       "      <td>1</td>\n",
       "    </tr>\n",
       "    <tr>\n",
       "      <th>utilities</th>\n",
       "      <td>53368</td>\n",
       "      <td>19</td>\n",
       "    </tr>\n",
       "    <tr>\n",
       "      <th>metal production</th>\n",
       "      <td>52847</td>\n",
       "      <td>3</td>\n",
       "    </tr>\n",
       "    <tr>\n",
       "      <th>metal office</th>\n",
       "      <td>17487</td>\n",
       "      <td>4</td>\n",
       "    </tr>\n",
       "    <tr>\n",
       "      <th>agriculture office</th>\n",
       "      <td>12177</td>\n",
       "      <td>2</td>\n",
       "    </tr>\n",
       "  </tbody>\n",
       "</table>\n",
       "</div>"
      ],
      "text/plain": [
       "                                     SW_SPLIT_IND      \n",
       "                                            count first\n",
       "INDUSTRY_CATEGORIES                                    \n",
       "unemployed                                6293425     0\n",
       "other services                            1672653    20\n",
       "retail production                         1125736    13\n",
       "healthcare                                 948314    17\n",
       "construction                               455444    16\n",
       "gradeschool education                      403232    21\n",
       "government/other                           382401    23\n",
       "heavy industry production                  344326     7\n",
       "retail office                              343196    14\n",
       "transportation handling                    287045    18\n",
       "heavy industry office                      228161     8\n",
       "post-secondary education                   211044    22\n",
       "light industry production                  179347     5\n",
       "transportation equipment production        150521     9\n",
       "wholesale office                           135789    12\n",
       "light industry office                       95329     6\n",
       "transportation equipment office             73152    10\n",
       "hotel/accomodation                          61490    15\n",
       "wholesale production                        60881    11\n",
       "agriculture production                      58637     1\n",
       "utilities                                   53368    19\n",
       "metal production                            52847     3\n",
       "metal office                                17487     4\n",
       "agriculture office                          12177     2"
      ]
     },
     "execution_count": 153,
     "metadata": {},
     "output_type": "execute_result"
    }
   ],
   "source": [
    "df[[\"INDUSTRY_CATEGORIES\", \"SW_SPLIT_IND\"]].groupby([\"INDUSTRY_CATEGORIES\"]).agg(['count', 'first']).sort_values(by=[(\"SW_SPLIT_IND\", \"count\")], ascending=False)"
   ]
  },
  {
   "cell_type": "code",
   "execution_count": 154,
   "metadata": {},
   "outputs": [
    {
     "data": {
      "text/html": [
       "<div>\n",
       "<style scoped>\n",
       "    .dataframe tbody tr th:only-of-type {\n",
       "        vertical-align: middle;\n",
       "    }\n",
       "\n",
       "    .dataframe tbody tr th {\n",
       "        vertical-align: top;\n",
       "    }\n",
       "\n",
       "    .dataframe thead tr th {\n",
       "        text-align: left;\n",
       "    }\n",
       "\n",
       "    .dataframe thead tr:last-of-type th {\n",
       "        text-align: right;\n",
       "    }\n",
       "</style>\n",
       "<table border=\"1\" class=\"dataframe\">\n",
       "  <thead>\n",
       "    <tr>\n",
       "      <th></th>\n",
       "      <th colspan=\"2\" halign=\"left\">SW_OCCUP</th>\n",
       "    </tr>\n",
       "    <tr>\n",
       "      <th></th>\n",
       "      <th>count</th>\n",
       "      <th>first</th>\n",
       "    </tr>\n",
       "    <tr>\n",
       "      <th>OCCUP_CATEGORIES</th>\n",
       "      <th></th>\n",
       "      <th></th>\n",
       "    </tr>\n",
       "  </thead>\n",
       "  <tbody>\n",
       "    <tr>\n",
       "      <th>Unemployed</th>\n",
       "      <td>5575277</td>\n",
       "      <td>0</td>\n",
       "    </tr>\n",
       "    <tr>\n",
       "      <th>office/administration</th>\n",
       "      <td>1165663</td>\n",
       "      <td>12</td>\n",
       "    </tr>\n",
       "    <tr>\n",
       "      <th>service workers</th>\n",
       "      <td>706958</td>\n",
       "      <td>8</td>\n",
       "    </tr>\n",
       "    <tr>\n",
       "      <th>assemblly/fabrication</th>\n",
       "      <td>702401</td>\n",
       "      <td>16</td>\n",
       "    </tr>\n",
       "    <tr>\n",
       "      <th>retail workers</th>\n",
       "      <td>649053</td>\n",
       "      <td>10</td>\n",
       "    </tr>\n",
       "    <tr>\n",
       "      <th>Manager</th>\n",
       "      <td>629359</td>\n",
       "      <td>1</td>\n",
       "    </tr>\n",
       "    <tr>\n",
       "      <th>health workers</th>\n",
       "      <td>619633</td>\n",
       "      <td>7</td>\n",
       "    </tr>\n",
       "    <tr>\n",
       "      <th>transport workers</th>\n",
       "      <td>570905</td>\n",
       "      <td>17</td>\n",
       "    </tr>\n",
       "    <tr>\n",
       "      <th>professionals</th>\n",
       "      <td>553683</td>\n",
       "      <td>3</td>\n",
       "    </tr>\n",
       "    <tr>\n",
       "      <th>food workers</th>\n",
       "      <td>501133</td>\n",
       "      <td>9</td>\n",
       "    </tr>\n",
       "    <tr>\n",
       "      <th>construction</th>\n",
       "      <td>440752</td>\n",
       "      <td>14</td>\n",
       "    </tr>\n",
       "    <tr>\n",
       "      <th>primary education</th>\n",
       "      <td>364034</td>\n",
       "      <td>5</td>\n",
       "    </tr>\n",
       "    <tr>\n",
       "      <th>non-retail sales workers (wholesale)</th>\n",
       "      <td>316821</td>\n",
       "      <td>11</td>\n",
       "    </tr>\n",
       "    <tr>\n",
       "      <th>business/finance</th>\n",
       "      <td>310077</td>\n",
       "      <td>2</td>\n",
       "    </tr>\n",
       "    <tr>\n",
       "      <th>maintenance and repair</th>\n",
       "      <td>279856</td>\n",
       "      <td>15</td>\n",
       "    </tr>\n",
       "    <tr>\n",
       "      <th>entertainers/media workers</th>\n",
       "      <td>118430</td>\n",
       "      <td>6</td>\n",
       "    </tr>\n",
       "    <tr>\n",
       "      <th>post-secondary education</th>\n",
       "      <td>69702</td>\n",
       "      <td>4</td>\n",
       "    </tr>\n",
       "    <tr>\n",
       "      <th>agriculture</th>\n",
       "      <td>62609</td>\n",
       "      <td>13</td>\n",
       "    </tr>\n",
       "    <tr>\n",
       "      <th>military workers</th>\n",
       "      <td>9656</td>\n",
       "      <td>18</td>\n",
       "    </tr>\n",
       "  </tbody>\n",
       "</table>\n",
       "</div>"
      ],
      "text/plain": [
       "                                     SW_OCCUP      \n",
       "                                        count first\n",
       "OCCUP_CATEGORIES                                   \n",
       "Unemployed                            5575277     0\n",
       "office/administration                 1165663    12\n",
       "service workers                        706958     8\n",
       "assemblly/fabrication                  702401    16\n",
       "retail workers                         649053    10\n",
       "Manager                                629359     1\n",
       "health workers                         619633     7\n",
       "transport workers                      570905    17\n",
       "professionals                          553683     3\n",
       "food workers                           501133     9\n",
       "construction                           440752    14\n",
       "primary education                      364034     5\n",
       "non-retail sales workers (wholesale)   316821    11\n",
       "business/finance                       310077     2\n",
       "maintenance and repair                 279856    15\n",
       "entertainers/media workers             118430     6\n",
       "post-secondary education                69702     4\n",
       "agriculture                             62609    13\n",
       "military workers                         9656    18"
      ]
     },
     "execution_count": 154,
     "metadata": {},
     "output_type": "execute_result"
    }
   ],
   "source": [
    "df[[\"SW_OCCUP\", \"OCCUP_CATEGORIES\"]].groupby([\"OCCUP_CATEGORIES\"]).agg(['count', 'first']).sort_values(by=[(\"SW_OCCUP\", \"count\")], ascending=False)"
   ]
  },
  {
   "cell_type": "code",
   "execution_count": 155,
   "metadata": {},
   "outputs": [],
   "source": [
    "# for occupations, need to add mining and government (and insurance/real estate)"
   ]
  },
  {
   "cell_type": "code",
   "execution_count": 156,
   "metadata": {},
   "outputs": [],
   "source": [
    "df[\"OCCUP\"] = df[\"SW_OCCUP\"]"
   ]
  },
  {
   "cell_type": "code",
   "execution_count": 157,
   "metadata": {},
   "outputs": [
    {
     "data": {
      "text/plain": [
       "assemblly/fabrication     31323\n",
       "transport workers         10587\n",
       "maintenance and repair     5584\n",
       "construction               3225\n",
       "service workers            2113\n",
       "agriculture                  15\n",
       "Name: OCCUP_CATEGORIES, dtype: int64"
      ]
     },
     "execution_count": 157,
     "metadata": {},
     "output_type": "execute_result"
    }
   ],
   "source": [
    "# occup categories of sw split ind mining production workers\n",
    "df[df[\"SW_SPLIT_IND\"] == 3][\"OCCUP_CATEGORIES\"].value_counts()"
   ]
  },
  {
   "cell_type": "code",
   "execution_count": 158,
   "metadata": {},
   "outputs": [],
   "source": [
    "# assume that all metal production workers who are in assembly/fabrictaion are part of the new metal extraction occupation\n",
    "df[\"OCCUP\"] = np.where((df[\"SW_SPLIT_IND\"] == 3) & (df[\"SW_OCCUP\"] == 16), 19, df[\"OCCUP\"])"
   ]
  },
  {
   "cell_type": "code",
   "execution_count": 159,
   "metadata": {},
   "outputs": [
    {
     "data": {
      "text/plain": [
       "service workers                         97009\n",
       "office/administration                   75489\n",
       "professionals                           52119\n",
       "Unemployed                              48882\n",
       "Manager                                 30218\n",
       "business/finance                        29439\n",
       "health workers                          10991\n",
       "military workers                         8663\n",
       "maintenance and repair                   8211\n",
       "transport workers                        4985\n",
       "construction                             4797\n",
       "primary education                        3180\n",
       "assemblly/fabrication                    2990\n",
       "entertainers/media workers               1825\n",
       "food workers                             1193\n",
       "retail workers                            901\n",
       "agriculture                               700\n",
       "non-retail sales workers (wholesale)      581\n",
       "post-secondary education                  228\n",
       "Name: OCCUP_CATEGORIES, dtype: int64"
      ]
     },
     "execution_count": 159,
     "metadata": {},
     "output_type": "execute_result"
    }
   ],
   "source": [
    "# occup categories of people in the sw split government industry\n",
    "df[df[\"SW_SPLIT_IND\"] == 23][\"OCCUP_CATEGORIES\"].value_counts()\n",
    "# unemployed people?"
   ]
  },
  {
   "cell_type": "code",
   "execution_count": 161,
   "metadata": {},
   "outputs": [],
   "source": [
    "# assume that all people who work in the industry government can be classified as working in the government occupation\n",
    "df[\"OCCUP\"] = np.where(df[\"SW_SPLIT_IND\"] == 23, 20, df[\"OCCUP\"])"
   ]
  },
  {
   "cell_type": "code",
   "execution_count": 162,
   "metadata": {},
   "outputs": [
    {
     "data": {
      "text/plain": [
       "0     5526395\n",
       "12    1090174\n",
       "16     668088\n",
       "10     648152\n",
       "8      609949\n",
       "7      608642\n",
       "1      599141\n",
       "17     565920\n",
       "3      501564\n",
       "9      499940\n",
       "14     435955\n",
       "20     382401\n",
       "5      360854\n",
       "11     316240\n",
       "2      280638\n",
       "15     271645\n",
       "6      116605\n",
       "4       69474\n",
       "13      61909\n",
       "19      31323\n",
       "18        993\n",
       "Name: OCCUP, dtype: int64"
      ]
     },
     "execution_count": 162,
     "metadata": {},
     "output_type": "execute_result"
    }
   ],
   "source": [
    "df[\"OCCUP\"].value_counts()"
   ]
  },
  {
   "cell_type": "code",
   "execution_count": null,
   "metadata": {},
   "outputs": [],
   "source": []
  }
 ],
 "metadata": {
  "kernelspec": {
   "display_name": "Python 3.9.13",
   "language": "python",
   "name": "python3"
  },
  "language_info": {
   "codemirror_mode": {
    "name": "ipython",
    "version": 3
   },
   "file_extension": ".py",
   "mimetype": "text/x-python",
   "name": "python",
   "nbconvert_exporter": "python",
   "pygments_lexer": "ipython3",
   "version": "3.9.13"
  },
  "orig_nbformat": 4,
  "vscode": {
   "interpreter": {
    "hash": "f529ef7e50ac04e93991fc41217dc1b4c52515aadd97b72ac40f00a91c4697dd"
   }
  }
 },
 "nbformat": 4,
 "nbformat_minor": 2
}
