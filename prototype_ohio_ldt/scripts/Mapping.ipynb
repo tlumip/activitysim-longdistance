{
 "cells": [
  {
   "cell_type": "code",
   "execution_count": 1,
   "id": "a2028df3-a2d2-4654-a2bc-77f3d2f8c2d5",
   "metadata": {
    "execution": {
     "iopub.execute_input": "2023-01-02T18:55:56.854223Z",
     "iopub.status.busy": "2023-01-02T18:55:56.853924Z",
     "iopub.status.idle": "2023-01-02T18:56:03.510533Z",
     "shell.execute_reply": "2023-01-02T18:56:03.509710Z",
     "shell.execute_reply.started": "2023-01-02T18:55:56.854200Z"
    }
   },
   "outputs": [
    {
     "name": "stderr",
     "output_type": "stream",
     "text": [
      "/Users/jeffnewman/LocalGit/arboretum/larch/larch/model/numbamodel.py:25: UserWarning: \n",
      "\n",
      "#### larch v6 is experimental, and not feature-complete ####\n",
      "the first time you import on a new system, this package will\n",
      "compile optimized binaries for your specific machine,  which\n",
      "may take a little while, please be patient ...\n",
      "\n",
      "  warnings.warn(  # Good news, everyone! This tool might not work. #  )\n"
     ]
    }
   ],
   "source": [
    "import geopandas as gpd\n",
    "import mapped"
   ]
  },
  {
   "cell_type": "code",
   "execution_count": 2,
   "id": "da6fd6a2-a71c-4eb1-9e71-93fecee48aab",
   "metadata": {
    "execution": {
     "iopub.execute_input": "2023-01-02T18:56:03.513858Z",
     "iopub.status.busy": "2023-01-02T18:56:03.512709Z",
     "iopub.status.idle": "2023-01-02T18:56:05.051999Z",
     "shell.execute_reply": "2023-01-02T18:56:05.051050Z",
     "shell.execute_reply.started": "2023-01-02T18:56:03.513829Z"
    }
   },
   "outputs": [],
   "source": [
    "shp = gpd.read_file(\"../data/USA_TAZs_incl_Cube_nx_n.zip\")"
   ]
  },
  {
   "cell_type": "code",
   "execution_count": 3,
   "id": "b1b002c7-c591-438d-960d-394826b56a46",
   "metadata": {
    "execution": {
     "iopub.execute_input": "2023-01-02T18:56:05.053765Z",
     "iopub.status.busy": "2023-01-02T18:56:05.053269Z",
     "iopub.status.idle": "2023-01-02T18:56:08.885030Z",
     "shell.execute_reply": "2023-01-02T18:56:08.884239Z",
     "shell.execute_reply.started": "2023-01-02T18:56:05.053739Z"
    }
   },
   "outputs": [],
   "source": [
    "shp1 = shp.copy()\n",
    "shp1.geometry[shp1.MODEL_AREA == 1] = shp.geometry[shp.MODEL_AREA == 1].simplify(500)\n",
    "shp1.geometry[shp1.MODEL_AREA == 0] = shp.geometry[shp.MODEL_AREA == 0].simplify(30000)"
   ]
  },
  {
   "cell_type": "code",
   "execution_count": 4,
   "id": "ee1795ef-a5d5-4c76-98e4-4bc6dcb8620b",
   "metadata": {
    "execution": {
     "iopub.execute_input": "2023-01-02T18:56:08.886577Z",
     "iopub.status.busy": "2023-01-02T18:56:08.886146Z",
     "iopub.status.idle": "2023-01-02T18:56:26.806444Z",
     "shell.execute_reply": "2023-01-02T18:56:26.805771Z",
     "shell.execute_reply.started": "2023-01-02T18:56:08.886556Z"
    }
   },
   "outputs": [
    {
     "data": {
      "application/vnd.jupyter.widget-view+json": {
       "model_id": "44b5a53109ab446f83bcbdfa7627a764",
       "version_major": 2,
       "version_minor": 0
      },
      "text/plain": [
       "FigureWidget({\n",
       "    'data': [{'coloraxis': 'coloraxis',\n",
       "              'geojson': {'bbox': (-141.00186979144567,…"
      ]
     },
     "metadata": {},
     "output_type": "display_data"
    }
   ],
   "source": [
    "mapped.plotly_choropleth(shp1, \"CUBE_N\")"
   ]
  },
  {
   "cell_type": "code",
   "execution_count": null,
   "id": "3d1b970e-8f23-44ff-8705-08a84f3f6506",
   "metadata": {},
   "outputs": [],
   "source": []
  },
  {
   "cell_type": "code",
   "execution_count": null,
   "id": "c2b8fa63-dde3-468b-a332-fe5dd5a591c5",
   "metadata": {},
   "outputs": [],
   "source": []
  }
 ],
 "metadata": {
  "kernelspec": {
   "display_name": "Python 3 (ipykernel)",
   "language": "python",
   "name": "python3"
  },
  "language_info": {
   "codemirror_mode": {
    "name": "ipython",
    "version": 3
   },
   "file_extension": ".py",
   "mimetype": "text/x-python",
   "name": "python",
   "nbconvert_exporter": "python",
   "pygments_lexer": "ipython3",
   "version": "3.10.8"
  }
 },
 "nbformat": 4,
 "nbformat_minor": 5
}
